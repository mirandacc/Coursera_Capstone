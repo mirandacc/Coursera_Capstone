{
    "cells": [
        {
            "cell_type": "markdown",
            "metadata": {
                "collapsed": true
            },
            "source": "# Analysis of Collision Data"
        },
        {
            "cell_type": "markdown",
            "metadata": {},
            "source": "This is the notebook I will be using to complete my capstone project for the IBM Data Science Professional Certificate."
        },
        {
            "cell_type": "code",
            "execution_count": null,
            "metadata": {},
            "outputs": [],
            "source": "import pandas as pd\nimport numpy as np"
        },
        {
            "cell_type": "markdown",
            "metadata": {},
            "source": "Business Understanding/Introduction\n\nFrom 2004 to present there have been 194,673 collisions reported by the Seattle Police Department to the Seattle Department of Transportation (SDOT). 58,188 of those collisions involved an injury. We aim to reduce the number of accidents, especially those with injuries, in order to increase the wellbeing and longevity of our community. We will prepare a presentation for SDOT and the Vision Zero Network, \"a collaborative campaign helping communities reach their goals of Vision Zero -- eliminating all traffic fatalities and severe injuries -- while increasing safe, healthy, equitable mobility for all.\" (https://visionzeronetwork.org)\n"
        },
        {
            "cell_type": "markdown",
            "metadata": {},
            "source": "Data\n\nWe will examine attributes such as in order to see what the most effective INATTENTIONIND    29805 non-null object\nUNDERINFL         189789 non-null object\nWEATHER           189592 non-null object\nROADCOND          189661 non-null object\nLIGHTCOND         189503 non-null object\nPEDROWNOTGRNT     4667 non-null object\nSDOTCOLNUM        114936 non-null float64\nSPEEDING \n2. Data Requirements: We\u2019re going to use available employee data including work hours and on-the-job experience (to rule out errors made from inexperience), patient data including numbers of admissions and types of illnesses (to look at whether the most errors are occurring with more obscure or hard to manage illness), and the data we have on the errors that have occurred both before and after the recent layoffs.\n\n\n3. Data Collection: We have collected our available employee, patient, and error data, but we decide to collect additional data by conducting surveys of our employees and patients to review their experiences and general understanding of what is happening in the hospital.\n\n\n4. Data Understanding & Preparation: Now we will use descriptive statistics and visualization techniques to examine the data we have collected. We find that there is a pattern between the number of hours that the medical professionals are working and the number of errors that have occurred. Before the recent layoffs most employees worked 55 hours a week, but since the staff was reduced many have been working 75 and more hours. The number of errors has doubled in that time. We realize we need to know the cost of the errors as well as the savings from the layoffs so we circle back to the data collection stage to gather this information. It is now clear that the savings to the hospital have been lost with the added costs of time and resources fixing errors, not to mention the human costs of the errors. We are now able to enter the preparation stage where we will combine all the data from our surveys, employee data, patient data, and data on errors. We also take this time to thoroughly clean the data of all inaccuracies, duplicates, inconsistencies, missing values, etcetera."
        },
        {
            "cell_type": "code",
            "execution_count": 4,
            "metadata": {},
            "outputs": [
                {
                    "name": "stderr",
                    "output_type": "stream",
                    "text": "/opt/conda/envs/Python36/lib/python3.6/site-packages/IPython/core/interactiveshell.py:3020: DtypeWarning: Columns (33) have mixed types. Specify dtype option on import or set low_memory=False.\n  interactivity=interactivity, compiler=compiler, result=result)\n"
                },
                {
                    "data": {
                        "text/html": "<div>\n<style scoped>\n    .dataframe tbody tr th:only-of-type {\n        vertical-align: middle;\n    }\n\n    .dataframe tbody tr th {\n        vertical-align: top;\n    }\n\n    .dataframe thead th {\n        text-align: right;\n    }\n</style>\n<table border=\"1\" class=\"dataframe\">\n  <thead>\n    <tr style=\"text-align: right;\">\n      <th></th>\n      <th>SEVERITYCODE</th>\n      <th>X</th>\n      <th>Y</th>\n      <th>OBJECTID</th>\n      <th>INCKEY</th>\n      <th>COLDETKEY</th>\n      <th>REPORTNO</th>\n      <th>STATUS</th>\n      <th>ADDRTYPE</th>\n      <th>INTKEY</th>\n      <th>...</th>\n      <th>ROADCOND</th>\n      <th>LIGHTCOND</th>\n      <th>PEDROWNOTGRNT</th>\n      <th>SDOTCOLNUM</th>\n      <th>SPEEDING</th>\n      <th>ST_COLCODE</th>\n      <th>ST_COLDESC</th>\n      <th>SEGLANEKEY</th>\n      <th>CROSSWALKKEY</th>\n      <th>HITPARKEDCAR</th>\n    </tr>\n  </thead>\n  <tbody>\n    <tr>\n      <th>0</th>\n      <td>2</td>\n      <td>-122.323148</td>\n      <td>47.703140</td>\n      <td>1</td>\n      <td>1307</td>\n      <td>1307</td>\n      <td>3502005</td>\n      <td>Matched</td>\n      <td>Intersection</td>\n      <td>37475.0</td>\n      <td>...</td>\n      <td>Wet</td>\n      <td>Daylight</td>\n      <td>NaN</td>\n      <td>NaN</td>\n      <td>NaN</td>\n      <td>10</td>\n      <td>Entering at angle</td>\n      <td>0</td>\n      <td>0</td>\n      <td>N</td>\n    </tr>\n    <tr>\n      <th>1</th>\n      <td>1</td>\n      <td>-122.347294</td>\n      <td>47.647172</td>\n      <td>2</td>\n      <td>52200</td>\n      <td>52200</td>\n      <td>2607959</td>\n      <td>Matched</td>\n      <td>Block</td>\n      <td>NaN</td>\n      <td>...</td>\n      <td>Wet</td>\n      <td>Dark - Street Lights On</td>\n      <td>NaN</td>\n      <td>6354039.0</td>\n      <td>NaN</td>\n      <td>11</td>\n      <td>From same direction - both going straight - bo...</td>\n      <td>0</td>\n      <td>0</td>\n      <td>N</td>\n    </tr>\n    <tr>\n      <th>2</th>\n      <td>1</td>\n      <td>-122.334540</td>\n      <td>47.607871</td>\n      <td>3</td>\n      <td>26700</td>\n      <td>26700</td>\n      <td>1482393</td>\n      <td>Matched</td>\n      <td>Block</td>\n      <td>NaN</td>\n      <td>...</td>\n      <td>Dry</td>\n      <td>Daylight</td>\n      <td>NaN</td>\n      <td>4323031.0</td>\n      <td>NaN</td>\n      <td>32</td>\n      <td>One parked--one moving</td>\n      <td>0</td>\n      <td>0</td>\n      <td>N</td>\n    </tr>\n    <tr>\n      <th>3</th>\n      <td>1</td>\n      <td>-122.334803</td>\n      <td>47.604803</td>\n      <td>4</td>\n      <td>1144</td>\n      <td>1144</td>\n      <td>3503937</td>\n      <td>Matched</td>\n      <td>Block</td>\n      <td>NaN</td>\n      <td>...</td>\n      <td>Dry</td>\n      <td>Daylight</td>\n      <td>NaN</td>\n      <td>NaN</td>\n      <td>NaN</td>\n      <td>23</td>\n      <td>From same direction - all others</td>\n      <td>0</td>\n      <td>0</td>\n      <td>N</td>\n    </tr>\n    <tr>\n      <th>4</th>\n      <td>2</td>\n      <td>-122.306426</td>\n      <td>47.545739</td>\n      <td>5</td>\n      <td>17700</td>\n      <td>17700</td>\n      <td>1807429</td>\n      <td>Matched</td>\n      <td>Intersection</td>\n      <td>34387.0</td>\n      <td>...</td>\n      <td>Wet</td>\n      <td>Daylight</td>\n      <td>NaN</td>\n      <td>4028032.0</td>\n      <td>NaN</td>\n      <td>10</td>\n      <td>Entering at angle</td>\n      <td>0</td>\n      <td>0</td>\n      <td>N</td>\n    </tr>\n  </tbody>\n</table>\n<p>5 rows \u00d7 38 columns</p>\n</div>",
                        "text/plain": "   SEVERITYCODE           X          Y  OBJECTID  INCKEY  COLDETKEY REPORTNO  \\\n0             2 -122.323148  47.703140         1    1307       1307  3502005   \n1             1 -122.347294  47.647172         2   52200      52200  2607959   \n2             1 -122.334540  47.607871         3   26700      26700  1482393   \n3             1 -122.334803  47.604803         4    1144       1144  3503937   \n4             2 -122.306426  47.545739         5   17700      17700  1807429   \n\n    STATUS      ADDRTYPE   INTKEY  ... ROADCOND                LIGHTCOND  \\\n0  Matched  Intersection  37475.0  ...      Wet                 Daylight   \n1  Matched         Block      NaN  ...      Wet  Dark - Street Lights On   \n2  Matched         Block      NaN  ...      Dry                 Daylight   \n3  Matched         Block      NaN  ...      Dry                 Daylight   \n4  Matched  Intersection  34387.0  ...      Wet                 Daylight   \n\n  PEDROWNOTGRNT  SDOTCOLNUM SPEEDING ST_COLCODE  \\\n0           NaN         NaN      NaN         10   \n1           NaN   6354039.0      NaN         11   \n2           NaN   4323031.0      NaN         32   \n3           NaN         NaN      NaN         23   \n4           NaN   4028032.0      NaN         10   \n\n                                          ST_COLDESC  SEGLANEKEY  \\\n0                                  Entering at angle           0   \n1  From same direction - both going straight - bo...           0   \n2                             One parked--one moving           0   \n3                   From same direction - all others           0   \n4                                  Entering at angle           0   \n\n   CROSSWALKKEY  HITPARKEDCAR  \n0             0             N  \n1             0             N  \n2             0             N  \n3             0             N  \n4             0             N  \n\n[5 rows x 38 columns]"
                    },
                    "execution_count": 4,
                    "metadata": {},
                    "output_type": "execute_result"
                }
            ],
            "source": "# The code was removed by Watson Studio for sharing."
        },
        {
            "cell_type": "code",
            "execution_count": 5,
            "metadata": {},
            "outputs": [
                {
                    "name": "stdout",
                    "output_type": "stream",
                    "text": "<class 'pandas.core.frame.DataFrame'>\nRangeIndex: 194673 entries, 0 to 194672\nData columns (total 38 columns):\nSEVERITYCODE      194673 non-null int64\nX                 189339 non-null float64\nY                 189339 non-null float64\nOBJECTID          194673 non-null int64\nINCKEY            194673 non-null int64\nCOLDETKEY         194673 non-null int64\nREPORTNO          194673 non-null object\nSTATUS            194673 non-null object\nADDRTYPE          192747 non-null object\nINTKEY            65070 non-null float64\nLOCATION          191996 non-null object\nEXCEPTRSNCODE     84811 non-null object\nEXCEPTRSNDESC     5638 non-null object\nSEVERITYCODE.1    194673 non-null int64\nSEVERITYDESC      194673 non-null object\nCOLLISIONTYPE     189769 non-null object\nPERSONCOUNT       194673 non-null int64\nPEDCOUNT          194673 non-null int64\nPEDCYLCOUNT       194673 non-null int64\nVEHCOUNT          194673 non-null int64\nINCDATE           194673 non-null object\nINCDTTM           194673 non-null object\nJUNCTIONTYPE      188344 non-null object\nSDOT_COLCODE      194673 non-null int64\nSDOT_COLDESC      194673 non-null object\nINATTENTIONIND    29805 non-null object\nUNDERINFL         189789 non-null object\nWEATHER           189592 non-null object\nROADCOND          189661 non-null object\nLIGHTCOND         189503 non-null object\nPEDROWNOTGRNT     4667 non-null object\nSDOTCOLNUM        114936 non-null float64\nSPEEDING          9333 non-null object\nST_COLCODE        194655 non-null object\nST_COLDESC        189769 non-null object\nSEGLANEKEY        194673 non-null int64\nCROSSWALKKEY      194673 non-null int64\nHITPARKEDCAR      194673 non-null object\ndtypes: float64(4), int64(12), object(22)\nmemory usage: 56.4+ MB\n"
                }
            ],
            "source": "df.info()"
        },
        {
            "cell_type": "code",
            "execution_count": 6,
            "metadata": {},
            "outputs": [
                {
                    "data": {
                        "text/plain": "count    194673.000000\nmean          0.037139\nstd           0.198150\nmin           0.000000\n25%           0.000000\n50%           0.000000\n75%           0.000000\nmax           6.000000\nName: PEDCOUNT, dtype: float64"
                    },
                    "execution_count": 6,
                    "metadata": {},
                    "output_type": "execute_result"
                }
            ],
            "source": "df['PEDCOUNT'].describe()"
        },
        {
            "cell_type": "code",
            "execution_count": 7,
            "metadata": {},
            "outputs": [
                {
                    "data": {
                        "text/plain": "array([0, 1, 2, 3, 4, 5, 6])"
                    },
                    "execution_count": 7,
                    "metadata": {},
                    "output_type": "execute_result"
                }
            ],
            "source": "df['PEDCOUNT'].unique()"
        },
        {
            "cell_type": "code",
            "execution_count": 8,
            "metadata": {},
            "outputs": [
                {
                    "data": {
                        "text/plain": "0"
                    },
                    "execution_count": 8,
                    "metadata": {},
                    "output_type": "execute_result"
                }
            ],
            "source": "sum(df['PEDCOUNT'].isnull())"
        },
        {
            "cell_type": "code",
            "execution_count": 9,
            "metadata": {},
            "outputs": [
                {
                    "data": {
                        "text/plain": "0    187734\n1      6685\n2       226\n3        22\n4         4\n6         1\n5         1\nName: PEDCOUNT, dtype: int64"
                    },
                    "execution_count": 9,
                    "metadata": {},
                    "output_type": "execute_result"
                }
            ],
            "source": "df['PEDCOUNT'].value_counts()"
        },
        {
            "cell_type": "code",
            "execution_count": 10,
            "metadata": {},
            "outputs": [
                {
                    "data": {
                        "text/plain": "1    136485\n2     58188\nName: SEVERITYCODE.1, dtype: int64"
                    },
                    "execution_count": 10,
                    "metadata": {},
                    "output_type": "execute_result"
                }
            ],
            "source": "df['SEVERITYCODE.1'].value_counts()"
        },
        {
            "cell_type": "code",
            "execution_count": 11,
            "metadata": {},
            "outputs": [
                {
                    "data": {
                        "text/plain": "array([2, 1])"
                    },
                    "execution_count": 11,
                    "metadata": {},
                    "output_type": "execute_result"
                }
            ],
            "source": "df['SEVERITYCODE.1'].unique()"
        },
        {
            "cell_type": "code",
            "execution_count": 12,
            "metadata": {},
            "outputs": [
                {
                    "data": {
                        "text/plain": "array(['Injury Collision', 'Property Damage Only Collision'], dtype=object)"
                    },
                    "execution_count": 12,
                    "metadata": {},
                    "output_type": "execute_result"
                }
            ],
            "source": "df['SEVERITYDESC'].unique()"
        },
        {
            "cell_type": "code",
            "execution_count": 13,
            "metadata": {},
            "outputs": [
                {
                    "data": {
                        "text/plain": "Index(['SEVERITYCODE', 'X', 'Y', 'OBJECTID', 'INCKEY', 'COLDETKEY', 'REPORTNO',\n       'STATUS', 'ADDRTYPE', 'INTKEY', 'LOCATION', 'EXCEPTRSNCODE',\n       'EXCEPTRSNDESC', 'SEVERITYCODE.1', 'SEVERITYDESC', 'COLLISIONTYPE',\n       'PERSONCOUNT', 'PEDCOUNT', 'PEDCYLCOUNT', 'VEHCOUNT', 'INCDATE',\n       'INCDTTM', 'JUNCTIONTYPE', 'SDOT_COLCODE', 'SDOT_COLDESC',\n       'INATTENTIONIND', 'UNDERINFL', 'WEATHER', 'ROADCOND', 'LIGHTCOND',\n       'PEDROWNOTGRNT', 'SDOTCOLNUM', 'SPEEDING', 'ST_COLCODE', 'ST_COLDESC',\n       'SEGLANEKEY', 'CROSSWALKKEY', 'HITPARKEDCAR'],\n      dtype='object')"
                    },
                    "execution_count": 13,
                    "metadata": {},
                    "output_type": "execute_result"
                }
            ],
            "source": "df.columns"
        },
        {
            "cell_type": "code",
            "execution_count": 14,
            "metadata": {},
            "outputs": [
                {
                    "data": {
                        "text/plain": "array(['Angles', 'Sideswipe', 'Parked Car', 'Other', 'Cycles',\n       'Rear Ended', 'Head On', nan, 'Left Turn', 'Pedestrian',\n       'Right Turn'], dtype=object)"
                    },
                    "execution_count": 14,
                    "metadata": {},
                    "output_type": "execute_result"
                }
            ],
            "source": "df['COLLISIONTYPE'].unique()"
        },
        {
            "cell_type": "code",
            "execution_count": 15,
            "metadata": {},
            "outputs": [
                {
                    "data": {
                        "text/html": "<div>\n<style scoped>\n    .dataframe tbody tr th:only-of-type {\n        vertical-align: middle;\n    }\n\n    .dataframe tbody tr th {\n        vertical-align: top;\n    }\n\n    .dataframe thead th {\n        text-align: right;\n    }\n</style>\n<table border=\"1\" class=\"dataframe\">\n  <thead>\n    <tr style=\"text-align: right;\">\n      <th></th>\n      <th>COLLISIONTYPE</th>\n      <th>SEVERITYDESC</th>\n      <th>SEVERITYCODE.1</th>\n      <th>PEDCOUNT</th>\n    </tr>\n  </thead>\n  <tbody>\n    <tr>\n      <th>0</th>\n      <td>Angles</td>\n      <td>Injury Collision</td>\n      <td>2</td>\n      <td>0</td>\n    </tr>\n    <tr>\n      <th>1</th>\n      <td>Sideswipe</td>\n      <td>Property Damage Only Collision</td>\n      <td>1</td>\n      <td>0</td>\n    </tr>\n    <tr>\n      <th>2</th>\n      <td>Parked Car</td>\n      <td>Property Damage Only Collision</td>\n      <td>1</td>\n      <td>0</td>\n    </tr>\n    <tr>\n      <th>3</th>\n      <td>Other</td>\n      <td>Property Damage Only Collision</td>\n      <td>1</td>\n      <td>0</td>\n    </tr>\n    <tr>\n      <th>4</th>\n      <td>Angles</td>\n      <td>Injury Collision</td>\n      <td>2</td>\n      <td>0</td>\n    </tr>\n    <tr>\n      <th>5</th>\n      <td>Angles</td>\n      <td>Property Damage Only Collision</td>\n      <td>1</td>\n      <td>0</td>\n    </tr>\n    <tr>\n      <th>6</th>\n      <td>Angles</td>\n      <td>Property Damage Only Collision</td>\n      <td>1</td>\n      <td>0</td>\n    </tr>\n    <tr>\n      <th>7</th>\n      <td>Cycles</td>\n      <td>Injury Collision</td>\n      <td>2</td>\n      <td>0</td>\n    </tr>\n    <tr>\n      <th>8</th>\n      <td>Parked Car</td>\n      <td>Property Damage Only Collision</td>\n      <td>1</td>\n      <td>0</td>\n    </tr>\n    <tr>\n      <th>9</th>\n      <td>Angles</td>\n      <td>Injury Collision</td>\n      <td>2</td>\n      <td>0</td>\n    </tr>\n    <tr>\n      <th>10</th>\n      <td>Other</td>\n      <td>Property Damage Only Collision</td>\n      <td>1</td>\n      <td>0</td>\n    </tr>\n    <tr>\n      <th>11</th>\n      <td>Angles</td>\n      <td>Property Damage Only Collision</td>\n      <td>1</td>\n      <td>0</td>\n    </tr>\n    <tr>\n      <th>12</th>\n      <td>Rear Ended</td>\n      <td>Property Damage Only Collision</td>\n      <td>1</td>\n      <td>0</td>\n    </tr>\n    <tr>\n      <th>13</th>\n      <td>Parked Car</td>\n      <td>Property Damage Only Collision</td>\n      <td>1</td>\n      <td>0</td>\n    </tr>\n    <tr>\n      <th>14</th>\n      <td>Head On</td>\n      <td>Injury Collision</td>\n      <td>2</td>\n      <td>0</td>\n    </tr>\n    <tr>\n      <th>15</th>\n      <td>NaN</td>\n      <td>Property Damage Only Collision</td>\n      <td>1</td>\n      <td>0</td>\n    </tr>\n    <tr>\n      <th>16</th>\n      <td>Left Turn</td>\n      <td>Injury Collision</td>\n      <td>2</td>\n      <td>0</td>\n    </tr>\n    <tr>\n      <th>17</th>\n      <td>Rear Ended</td>\n      <td>Property Damage Only Collision</td>\n      <td>1</td>\n      <td>0</td>\n    </tr>\n    <tr>\n      <th>18</th>\n      <td>Rear Ended</td>\n      <td>Injury Collision</td>\n      <td>2</td>\n      <td>0</td>\n    </tr>\n    <tr>\n      <th>19</th>\n      <td>Parked Car</td>\n      <td>Property Damage Only Collision</td>\n      <td>1</td>\n      <td>0</td>\n    </tr>\n    <tr>\n      <th>20</th>\n      <td>Rear Ended</td>\n      <td>Injury Collision</td>\n      <td>2</td>\n      <td>0</td>\n    </tr>\n    <tr>\n      <th>21</th>\n      <td>Angles</td>\n      <td>Injury Collision</td>\n      <td>2</td>\n      <td>0</td>\n    </tr>\n    <tr>\n      <th>22</th>\n      <td>Parked Car</td>\n      <td>Property Damage Only Collision</td>\n      <td>1</td>\n      <td>0</td>\n    </tr>\n    <tr>\n      <th>23</th>\n      <td>Other</td>\n      <td>Property Damage Only Collision</td>\n      <td>1</td>\n      <td>0</td>\n    </tr>\n    <tr>\n      <th>24</th>\n      <td>Rear Ended</td>\n      <td>Injury Collision</td>\n      <td>2</td>\n      <td>0</td>\n    </tr>\n    <tr>\n      <th>25</th>\n      <td>Cycles</td>\n      <td>Injury Collision</td>\n      <td>2</td>\n      <td>0</td>\n    </tr>\n    <tr>\n      <th>26</th>\n      <td>Left Turn</td>\n      <td>Property Damage Only Collision</td>\n      <td>1</td>\n      <td>0</td>\n    </tr>\n    <tr>\n      <th>27</th>\n      <td>Angles</td>\n      <td>Property Damage Only Collision</td>\n      <td>1</td>\n      <td>0</td>\n    </tr>\n    <tr>\n      <th>28</th>\n      <td>Other</td>\n      <td>Property Damage Only Collision</td>\n      <td>1</td>\n      <td>0</td>\n    </tr>\n    <tr>\n      <th>29</th>\n      <td>Parked Car</td>\n      <td>Property Damage Only Collision</td>\n      <td>1</td>\n      <td>0</td>\n    </tr>\n    <tr>\n      <th>...</th>\n      <td>...</td>\n      <td>...</td>\n      <td>...</td>\n      <td>...</td>\n    </tr>\n    <tr>\n      <th>194643</th>\n      <td>Parked Car</td>\n      <td>Property Damage Only Collision</td>\n      <td>1</td>\n      <td>0</td>\n    </tr>\n    <tr>\n      <th>194644</th>\n      <td>Angles</td>\n      <td>Property Damage Only Collision</td>\n      <td>1</td>\n      <td>0</td>\n    </tr>\n    <tr>\n      <th>194645</th>\n      <td>Right Turn</td>\n      <td>Injury Collision</td>\n      <td>2</td>\n      <td>0</td>\n    </tr>\n    <tr>\n      <th>194646</th>\n      <td>NaN</td>\n      <td>Property Damage Only Collision</td>\n      <td>1</td>\n      <td>0</td>\n    </tr>\n    <tr>\n      <th>194647</th>\n      <td>Pedestrian</td>\n      <td>Injury Collision</td>\n      <td>2</td>\n      <td>1</td>\n    </tr>\n    <tr>\n      <th>194648</th>\n      <td>Angles</td>\n      <td>Property Damage Only Collision</td>\n      <td>1</td>\n      <td>0</td>\n    </tr>\n    <tr>\n      <th>194649</th>\n      <td>Left Turn</td>\n      <td>Injury Collision</td>\n      <td>2</td>\n      <td>0</td>\n    </tr>\n    <tr>\n      <th>194650</th>\n      <td>Parked Car</td>\n      <td>Injury Collision</td>\n      <td>2</td>\n      <td>0</td>\n    </tr>\n    <tr>\n      <th>194651</th>\n      <td>Pedestrian</td>\n      <td>Property Damage Only Collision</td>\n      <td>1</td>\n      <td>1</td>\n    </tr>\n    <tr>\n      <th>194652</th>\n      <td>Parked Car</td>\n      <td>Property Damage Only Collision</td>\n      <td>1</td>\n      <td>0</td>\n    </tr>\n    <tr>\n      <th>194653</th>\n      <td>Parked Car</td>\n      <td>Injury Collision</td>\n      <td>2</td>\n      <td>0</td>\n    </tr>\n    <tr>\n      <th>194654</th>\n      <td>NaN</td>\n      <td>Property Damage Only Collision</td>\n      <td>1</td>\n      <td>0</td>\n    </tr>\n    <tr>\n      <th>194655</th>\n      <td>NaN</td>\n      <td>Injury Collision</td>\n      <td>2</td>\n      <td>0</td>\n    </tr>\n    <tr>\n      <th>194656</th>\n      <td>Pedestrian</td>\n      <td>Injury Collision</td>\n      <td>2</td>\n      <td>1</td>\n    </tr>\n    <tr>\n      <th>194657</th>\n      <td>Sideswipe</td>\n      <td>Property Damage Only Collision</td>\n      <td>1</td>\n      <td>0</td>\n    </tr>\n    <tr>\n      <th>194658</th>\n      <td>Rear Ended</td>\n      <td>Property Damage Only Collision</td>\n      <td>1</td>\n      <td>0</td>\n    </tr>\n    <tr>\n      <th>194659</th>\n      <td>Parked Car</td>\n      <td>Property Damage Only Collision</td>\n      <td>1</td>\n      <td>0</td>\n    </tr>\n    <tr>\n      <th>194660</th>\n      <td>Other</td>\n      <td>Injury Collision</td>\n      <td>2</td>\n      <td>0</td>\n    </tr>\n    <tr>\n      <th>194661</th>\n      <td>Left Turn</td>\n      <td>Injury Collision</td>\n      <td>2</td>\n      <td>0</td>\n    </tr>\n    <tr>\n      <th>194662</th>\n      <td>Parked Car</td>\n      <td>Property Damage Only Collision</td>\n      <td>1</td>\n      <td>0</td>\n    </tr>\n    <tr>\n      <th>194663</th>\n      <td>Angles</td>\n      <td>Injury Collision</td>\n      <td>2</td>\n      <td>0</td>\n    </tr>\n    <tr>\n      <th>194664</th>\n      <td>Angles</td>\n      <td>Property Damage Only Collision</td>\n      <td>1</td>\n      <td>0</td>\n    </tr>\n    <tr>\n      <th>194665</th>\n      <td>Angles</td>\n      <td>Property Damage Only Collision</td>\n      <td>1</td>\n      <td>0</td>\n    </tr>\n    <tr>\n      <th>194666</th>\n      <td>Angles</td>\n      <td>Injury Collision</td>\n      <td>2</td>\n      <td>0</td>\n    </tr>\n    <tr>\n      <th>194667</th>\n      <td>Other</td>\n      <td>Property Damage Only Collision</td>\n      <td>1</td>\n      <td>0</td>\n    </tr>\n    <tr>\n      <th>194668</th>\n      <td>Head On</td>\n      <td>Injury Collision</td>\n      <td>2</td>\n      <td>0</td>\n    </tr>\n    <tr>\n      <th>194669</th>\n      <td>Rear Ended</td>\n      <td>Property Damage Only Collision</td>\n      <td>1</td>\n      <td>0</td>\n    </tr>\n    <tr>\n      <th>194670</th>\n      <td>Left Turn</td>\n      <td>Injury Collision</td>\n      <td>2</td>\n      <td>0</td>\n    </tr>\n    <tr>\n      <th>194671</th>\n      <td>Cycles</td>\n      <td>Injury Collision</td>\n      <td>2</td>\n      <td>0</td>\n    </tr>\n    <tr>\n      <th>194672</th>\n      <td>Rear Ended</td>\n      <td>Property Damage Only Collision</td>\n      <td>1</td>\n      <td>0</td>\n    </tr>\n  </tbody>\n</table>\n<p>194673 rows \u00d7 4 columns</p>\n</div>",
                        "text/plain": "       COLLISIONTYPE                    SEVERITYDESC  SEVERITYCODE.1  PEDCOUNT\n0             Angles                Injury Collision               2         0\n1          Sideswipe  Property Damage Only Collision               1         0\n2         Parked Car  Property Damage Only Collision               1         0\n3              Other  Property Damage Only Collision               1         0\n4             Angles                Injury Collision               2         0\n5             Angles  Property Damage Only Collision               1         0\n6             Angles  Property Damage Only Collision               1         0\n7             Cycles                Injury Collision               2         0\n8         Parked Car  Property Damage Only Collision               1         0\n9             Angles                Injury Collision               2         0\n10             Other  Property Damage Only Collision               1         0\n11            Angles  Property Damage Only Collision               1         0\n12        Rear Ended  Property Damage Only Collision               1         0\n13        Parked Car  Property Damage Only Collision               1         0\n14           Head On                Injury Collision               2         0\n15               NaN  Property Damage Only Collision               1         0\n16         Left Turn                Injury Collision               2         0\n17        Rear Ended  Property Damage Only Collision               1         0\n18        Rear Ended                Injury Collision               2         0\n19        Parked Car  Property Damage Only Collision               1         0\n20        Rear Ended                Injury Collision               2         0\n21            Angles                Injury Collision               2         0\n22        Parked Car  Property Damage Only Collision               1         0\n23             Other  Property Damage Only Collision               1         0\n24        Rear Ended                Injury Collision               2         0\n25            Cycles                Injury Collision               2         0\n26         Left Turn  Property Damage Only Collision               1         0\n27            Angles  Property Damage Only Collision               1         0\n28             Other  Property Damage Only Collision               1         0\n29        Parked Car  Property Damage Only Collision               1         0\n...              ...                             ...             ...       ...\n194643    Parked Car  Property Damage Only Collision               1         0\n194644        Angles  Property Damage Only Collision               1         0\n194645    Right Turn                Injury Collision               2         0\n194646           NaN  Property Damage Only Collision               1         0\n194647    Pedestrian                Injury Collision               2         1\n194648        Angles  Property Damage Only Collision               1         0\n194649     Left Turn                Injury Collision               2         0\n194650    Parked Car                Injury Collision               2         0\n194651    Pedestrian  Property Damage Only Collision               1         1\n194652    Parked Car  Property Damage Only Collision               1         0\n194653    Parked Car                Injury Collision               2         0\n194654           NaN  Property Damage Only Collision               1         0\n194655           NaN                Injury Collision               2         0\n194656    Pedestrian                Injury Collision               2         1\n194657     Sideswipe  Property Damage Only Collision               1         0\n194658    Rear Ended  Property Damage Only Collision               1         0\n194659    Parked Car  Property Damage Only Collision               1         0\n194660         Other                Injury Collision               2         0\n194661     Left Turn                Injury Collision               2         0\n194662    Parked Car  Property Damage Only Collision               1         0\n194663        Angles                Injury Collision               2         0\n194664        Angles  Property Damage Only Collision               1         0\n194665        Angles  Property Damage Only Collision               1         0\n194666        Angles                Injury Collision               2         0\n194667         Other  Property Damage Only Collision               1         0\n194668       Head On                Injury Collision               2         0\n194669    Rear Ended  Property Damage Only Collision               1         0\n194670     Left Turn                Injury Collision               2         0\n194671        Cycles                Injury Collision               2         0\n194672    Rear Ended  Property Damage Only Collision               1         0\n\n[194673 rows x 4 columns]"
                    },
                    "execution_count": 15,
                    "metadata": {},
                    "output_type": "execute_result"
                }
            ],
            "source": "df_test= df[['COLLISIONTYPE', 'SEVERITYDESC', 'SEVERITYCODE.1', 'PEDCOUNT']]\ndf_test"
        },
        {
            "cell_type": "code",
            "execution_count": 16,
            "metadata": {},
            "outputs": [
                {
                    "data": {
                        "text/plain": "58188"
                    },
                    "execution_count": 16,
                    "metadata": {},
                    "output_type": "execute_result"
                }
            ],
            "source": "sum(df_test['SEVERITYDESC']== \"Injury Collision\")"
        },
        {
            "cell_type": "code",
            "execution_count": 17,
            "metadata": {},
            "outputs": [
                {
                    "data": {
                        "text/plain": "136485"
                    },
                    "execution_count": 17,
                    "metadata": {},
                    "output_type": "execute_result"
                }
            ],
            "source": "sum(df_test['SEVERITYDESC']== \"Property Damage Only Collision\")"
        },
        {
            "cell_type": "code",
            "execution_count": null,
            "metadata": {},
            "outputs": [],
            "source": ""
        }
    ],
    "metadata": {
        "kernelspec": {
            "display_name": "Python 3.6",
            "language": "python",
            "name": "python3"
        },
        "language_info": {
            "codemirror_mode": {
                "name": "ipython",
                "version": 3
            },
            "file_extension": ".py",
            "mimetype": "text/x-python",
            "name": "python",
            "nbconvert_exporter": "python",
            "pygments_lexer": "ipython3",
            "version": "3.6.9"
        }
    },
    "nbformat": 4,
    "nbformat_minor": 1
}
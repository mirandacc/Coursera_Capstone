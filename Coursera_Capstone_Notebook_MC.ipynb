{
    "cells": [
        {
            "cell_type": "markdown",
            "metadata": {
                "collapsed": true
            },
            "source": "# Analysis of Seattle Collision Data\n#### Capstone Project For IBM's Data Science Professional Certificate On Coursera\n#### Prepared by Miranda Childs on August 24th, 2020"
        },
        {
            "cell_type": "markdown",
            "metadata": {},
            "source": "## Table of contents\n* [Introduction and Business Understanding](#introduction)\n* [Data Understanding and Preparation](#data)\n* [Methodology](#method)\n* [Results](#results)\n* [Discussion](#discussion)\n* [Conclusion](#conclusion)"
        },
        {
            "cell_type": "markdown",
            "metadata": {},
            "source": "## Introduction and Business Understanding<a name=\"introduction\"></a>\n\nIn Seattle, from 2004 to present there have been 194,673 collisions reported by the Seattle Police Department to the Seattle Department of Transportation (SDOT). 58,188 of those collisions resulted in an injury.We aim to reduce the number of accidents, especially those with injuries, in order to increase the wellbeing and longevity of our community. We will prepare a presentation for SDOT and the Vision Zero Network, \"a collaborative campaign helping communities reach their goals of Vision Zero -- eliminating all traffic fatalities and severe injuries -- while increasing safe, healthy, equitable mobility for all.\" (<a href=\"https://visionzeronetwork.org\">Vision Zero Network</a>)\n"
        },
        {
            "cell_type": "markdown",
            "metadata": {},
            "source": "## Data Understanding and Preparation<a name=\"data\"></a>\n\nWe will be using the shared data set on collisions from 2004 to present, provided by the Traffic Records Group in conjunction with the Seattle Police Department and Seattle Department of Transportation. (Here are links to <a href=\"https://s3.us.cloud-object-storage.appdomain.cloud/cf-courses-data/CognitiveClass/DP0701EN/version-2/Data-Collisions.csv\">the dataset</a> and <a href=\"https://s3.us.cloud-object-storage.appdomain.cloud/cf-courses-data/CognitiveClass/DP0701EN/version-2/Metadata.pdf\">corresponding metadata</a>.)\n"
        },
        {
            "cell_type": "code",
            "execution_count": 2,
            "metadata": {},
            "outputs": [],
            "source": "#Import pandas and numpy\nimport pandas as pd\nimport numpy as np"
        },
        {
            "cell_type": "code",
            "execution_count": 3,
            "metadata": {},
            "outputs": [
                {
                    "name": "stderr",
                    "output_type": "stream",
                    "text": "/opt/conda/envs/Python36/lib/python3.6/site-packages/IPython/core/interactiveshell.py:3020: DtypeWarning: Columns (33) have mixed types. Specify dtype option on import or set low_memory=False.\n  interactivity=interactivity, compiler=compiler, result=result)\n"
                },
                {
                    "data": {
                        "text/html": "<div>\n<style scoped>\n    .dataframe tbody tr th:only-of-type {\n        vertical-align: middle;\n    }\n\n    .dataframe tbody tr th {\n        vertical-align: top;\n    }\n\n    .dataframe thead th {\n        text-align: right;\n    }\n</style>\n<table border=\"1\" class=\"dataframe\">\n  <thead>\n    <tr style=\"text-align: right;\">\n      <th></th>\n      <th>SEVERITYCODE</th>\n      <th>X</th>\n      <th>Y</th>\n      <th>OBJECTID</th>\n      <th>INCKEY</th>\n      <th>COLDETKEY</th>\n      <th>REPORTNO</th>\n      <th>STATUS</th>\n      <th>ADDRTYPE</th>\n      <th>INTKEY</th>\n      <th>...</th>\n      <th>ROADCOND</th>\n      <th>LIGHTCOND</th>\n      <th>PEDROWNOTGRNT</th>\n      <th>SDOTCOLNUM</th>\n      <th>SPEEDING</th>\n      <th>ST_COLCODE</th>\n      <th>ST_COLDESC</th>\n      <th>SEGLANEKEY</th>\n      <th>CROSSWALKKEY</th>\n      <th>HITPARKEDCAR</th>\n    </tr>\n  </thead>\n  <tbody>\n    <tr>\n      <th>0</th>\n      <td>2</td>\n      <td>-122.323148</td>\n      <td>47.703140</td>\n      <td>1</td>\n      <td>1307</td>\n      <td>1307</td>\n      <td>3502005</td>\n      <td>Matched</td>\n      <td>Intersection</td>\n      <td>37475.0</td>\n      <td>...</td>\n      <td>Wet</td>\n      <td>Daylight</td>\n      <td>NaN</td>\n      <td>NaN</td>\n      <td>NaN</td>\n      <td>10</td>\n      <td>Entering at angle</td>\n      <td>0</td>\n      <td>0</td>\n      <td>N</td>\n    </tr>\n    <tr>\n      <th>1</th>\n      <td>1</td>\n      <td>-122.347294</td>\n      <td>47.647172</td>\n      <td>2</td>\n      <td>52200</td>\n      <td>52200</td>\n      <td>2607959</td>\n      <td>Matched</td>\n      <td>Block</td>\n      <td>NaN</td>\n      <td>...</td>\n      <td>Wet</td>\n      <td>Dark - Street Lights On</td>\n      <td>NaN</td>\n      <td>6354039.0</td>\n      <td>NaN</td>\n      <td>11</td>\n      <td>From same direction - both going straight - bo...</td>\n      <td>0</td>\n      <td>0</td>\n      <td>N</td>\n    </tr>\n    <tr>\n      <th>2</th>\n      <td>1</td>\n      <td>-122.334540</td>\n      <td>47.607871</td>\n      <td>3</td>\n      <td>26700</td>\n      <td>26700</td>\n      <td>1482393</td>\n      <td>Matched</td>\n      <td>Block</td>\n      <td>NaN</td>\n      <td>...</td>\n      <td>Dry</td>\n      <td>Daylight</td>\n      <td>NaN</td>\n      <td>4323031.0</td>\n      <td>NaN</td>\n      <td>32</td>\n      <td>One parked--one moving</td>\n      <td>0</td>\n      <td>0</td>\n      <td>N</td>\n    </tr>\n    <tr>\n      <th>3</th>\n      <td>1</td>\n      <td>-122.334803</td>\n      <td>47.604803</td>\n      <td>4</td>\n      <td>1144</td>\n      <td>1144</td>\n      <td>3503937</td>\n      <td>Matched</td>\n      <td>Block</td>\n      <td>NaN</td>\n      <td>...</td>\n      <td>Dry</td>\n      <td>Daylight</td>\n      <td>NaN</td>\n      <td>NaN</td>\n      <td>NaN</td>\n      <td>23</td>\n      <td>From same direction - all others</td>\n      <td>0</td>\n      <td>0</td>\n      <td>N</td>\n    </tr>\n    <tr>\n      <th>4</th>\n      <td>2</td>\n      <td>-122.306426</td>\n      <td>47.545739</td>\n      <td>5</td>\n      <td>17700</td>\n      <td>17700</td>\n      <td>1807429</td>\n      <td>Matched</td>\n      <td>Intersection</td>\n      <td>34387.0</td>\n      <td>...</td>\n      <td>Wet</td>\n      <td>Daylight</td>\n      <td>NaN</td>\n      <td>4028032.0</td>\n      <td>NaN</td>\n      <td>10</td>\n      <td>Entering at angle</td>\n      <td>0</td>\n      <td>0</td>\n      <td>N</td>\n    </tr>\n  </tbody>\n</table>\n<p>5 rows \u00d7 38 columns</p>\n</div>",
                        "text/plain": "   SEVERITYCODE           X          Y  OBJECTID  INCKEY  COLDETKEY REPORTNO  \\\n0             2 -122.323148  47.703140         1    1307       1307  3502005   \n1             1 -122.347294  47.647172         2   52200      52200  2607959   \n2             1 -122.334540  47.607871         3   26700      26700  1482393   \n3             1 -122.334803  47.604803         4    1144       1144  3503937   \n4             2 -122.306426  47.545739         5   17700      17700  1807429   \n\n    STATUS      ADDRTYPE   INTKEY  ... ROADCOND                LIGHTCOND  \\\n0  Matched  Intersection  37475.0  ...      Wet                 Daylight   \n1  Matched         Block      NaN  ...      Wet  Dark - Street Lights On   \n2  Matched         Block      NaN  ...      Dry                 Daylight   \n3  Matched         Block      NaN  ...      Dry                 Daylight   \n4  Matched  Intersection  34387.0  ...      Wet                 Daylight   \n\n  PEDROWNOTGRNT  SDOTCOLNUM SPEEDING ST_COLCODE  \\\n0           NaN         NaN      NaN         10   \n1           NaN   6354039.0      NaN         11   \n2           NaN   4323031.0      NaN         32   \n3           NaN         NaN      NaN         23   \n4           NaN   4028032.0      NaN         10   \n\n                                          ST_COLDESC  SEGLANEKEY  \\\n0                                  Entering at angle           0   \n1  From same direction - both going straight - bo...           0   \n2                             One parked--one moving           0   \n3                   From same direction - all others           0   \n4                                  Entering at angle           0   \n\n   CROSSWALKKEY  HITPARKEDCAR  \n0             0             N  \n1             0             N  \n2             0             N  \n3             0             N  \n4             0             N  \n\n[5 rows x 38 columns]"
                    },
                    "execution_count": 3,
                    "metadata": {},
                    "output_type": "execute_result"
                }
            ],
            "source": "#Import the dataset\ndf = pd.read_csv(\"https://s3.us.cloud-object-storage.appdomain.cloud/cf-courses-data/CognitiveClass/DP0701EN/version-2/Data-Collisions.csv\");\ndf.head()"
        },
        {
            "cell_type": "code",
            "execution_count": 4,
            "metadata": {
                "scrolled": true
            },
            "outputs": [
                {
                    "data": {
                        "text/plain": "Index(['SEVERITYCODE', 'X', 'Y', 'OBJECTID', 'INCKEY', 'COLDETKEY', 'REPORTNO',\n       'STATUS', 'ADDRTYPE', 'INTKEY', 'LOCATION', 'EXCEPTRSNCODE',\n       'EXCEPTRSNDESC', 'SEVERITYCODE.1', 'SEVERITYDESC', 'COLLISIONTYPE',\n       'PERSONCOUNT', 'PEDCOUNT', 'PEDCYLCOUNT', 'VEHCOUNT', 'INCDATE',\n       'INCDTTM', 'JUNCTIONTYPE', 'SDOT_COLCODE', 'SDOT_COLDESC',\n       'INATTENTIONIND', 'UNDERINFL', 'WEATHER', 'ROADCOND', 'LIGHTCOND',\n       'PEDROWNOTGRNT', 'SDOTCOLNUM', 'SPEEDING', 'ST_COLCODE', 'ST_COLDESC',\n       'SEGLANEKEY', 'CROSSWALKKEY', 'HITPARKEDCAR'],\n      dtype='object')"
                    },
                    "execution_count": 4,
                    "metadata": {},
                    "output_type": "execute_result"
                }
            ],
            "source": "#We can obtain a list of the columns in the dataset\ndf.columns"
        },
        {
            "cell_type": "code",
            "execution_count": 5,
            "metadata": {},
            "outputs": [
                {
                    "name": "stdout",
                    "output_type": "stream",
                    "text": "<class 'pandas.core.frame.DataFrame'>\nRangeIndex: 194673 entries, 0 to 194672\nData columns (total 38 columns):\nSEVERITYCODE      194673 non-null int64\nX                 189339 non-null float64\nY                 189339 non-null float64\nOBJECTID          194673 non-null int64\nINCKEY            194673 non-null int64\nCOLDETKEY         194673 non-null int64\nREPORTNO          194673 non-null object\nSTATUS            194673 non-null object\nADDRTYPE          192747 non-null object\nINTKEY            65070 non-null float64\nLOCATION          191996 non-null object\nEXCEPTRSNCODE     84811 non-null object\nEXCEPTRSNDESC     5638 non-null object\nSEVERITYCODE.1    194673 non-null int64\nSEVERITYDESC      194673 non-null object\nCOLLISIONTYPE     189769 non-null object\nPERSONCOUNT       194673 non-null int64\nPEDCOUNT          194673 non-null int64\nPEDCYLCOUNT       194673 non-null int64\nVEHCOUNT          194673 non-null int64\nINCDATE           194673 non-null object\nINCDTTM           194673 non-null object\nJUNCTIONTYPE      188344 non-null object\nSDOT_COLCODE      194673 non-null int64\nSDOT_COLDESC      194673 non-null object\nINATTENTIONIND    29805 non-null object\nUNDERINFL         189789 non-null object\nWEATHER           189592 non-null object\nROADCOND          189661 non-null object\nLIGHTCOND         189503 non-null object\nPEDROWNOTGRNT     4667 non-null object\nSDOTCOLNUM        114936 non-null float64\nSPEEDING          9333 non-null object\nST_COLCODE        194655 non-null object\nST_COLDESC        189769 non-null object\nSEGLANEKEY        194673 non-null int64\nCROSSWALKKEY      194673 non-null int64\nHITPARKEDCAR      194673 non-null object\ndtypes: float64(4), int64(12), object(22)\nmemory usage: 56.4+ MB\n"
                }
            ],
            "source": "#And review information on the dataset\ndf.info()"
        },
        {
            "cell_type": "code",
            "execution_count": 6,
            "metadata": {},
            "outputs": [
                {
                    "data": {
                        "text/html": "<div>\n<style scoped>\n    .dataframe tbody tr th:only-of-type {\n        vertical-align: middle;\n    }\n\n    .dataframe tbody tr th {\n        vertical-align: top;\n    }\n\n    .dataframe thead th {\n        text-align: right;\n    }\n</style>\n<table border=\"1\" class=\"dataframe\">\n  <thead>\n    <tr style=\"text-align: right;\">\n      <th></th>\n      <th>SEVERITYCODE</th>\n      <th>SEVERITYCODE.1</th>\n      <th>SEVERITYDESC</th>\n    </tr>\n  </thead>\n  <tbody>\n    <tr>\n      <th>0</th>\n      <td>2</td>\n      <td>2</td>\n      <td>Injury Collision</td>\n    </tr>\n    <tr>\n      <th>1</th>\n      <td>1</td>\n      <td>1</td>\n      <td>Property Damage Only Collision</td>\n    </tr>\n    <tr>\n      <th>2</th>\n      <td>1</td>\n      <td>1</td>\n      <td>Property Damage Only Collision</td>\n    </tr>\n    <tr>\n      <th>3</th>\n      <td>1</td>\n      <td>1</td>\n      <td>Property Damage Only Collision</td>\n    </tr>\n    <tr>\n      <th>4</th>\n      <td>2</td>\n      <td>2</td>\n      <td>Injury Collision</td>\n    </tr>\n  </tbody>\n</table>\n</div>",
                        "text/plain": "   SEVERITYCODE  SEVERITYCODE.1                    SEVERITYDESC\n0             2               2                Injury Collision\n1             1               1  Property Damage Only Collision\n2             1               1  Property Damage Only Collision\n3             1               1  Property Damage Only Collision\n4             2               2                Injury Collision"
                    },
                    "execution_count": 6,
                    "metadata": {},
                    "output_type": "execute_result"
                }
            ],
            "source": "#As the collision's severity will serve as our independent variable, it is important to understand this attribute.\n#It appears there are three different columns, relating to severity so let's review them.\ndf_severity= df[['SEVERITYCODE','SEVERITYCODE.1', 'SEVERITYDESC' ]]\ndf_severity.head()"
        },
        {
            "cell_type": "code",
            "execution_count": 7,
            "metadata": {
                "scrolled": true
            },
            "outputs": [
                {
                    "data": {
                        "text/html": "<div>\n<style scoped>\n    .dataframe tbody tr th:only-of-type {\n        vertical-align: middle;\n    }\n\n    .dataframe tbody tr th {\n        vertical-align: top;\n    }\n\n    .dataframe thead th {\n        text-align: right;\n    }\n</style>\n<table border=\"1\" class=\"dataframe\">\n  <thead>\n    <tr style=\"text-align: right;\">\n      <th></th>\n      <th>SEVERITYCODE</th>\n      <th>X</th>\n      <th>Y</th>\n      <th>OBJECTID</th>\n      <th>INCKEY</th>\n      <th>COLDETKEY</th>\n      <th>REPORTNO</th>\n      <th>STATUS</th>\n      <th>ADDRTYPE</th>\n      <th>INTKEY</th>\n      <th>...</th>\n      <th>ROADCOND</th>\n      <th>LIGHTCOND</th>\n      <th>PEDROWNOTGRNT</th>\n      <th>SDOTCOLNUM</th>\n      <th>SPEEDING</th>\n      <th>ST_COLCODE</th>\n      <th>ST_COLDESC</th>\n      <th>SEGLANEKEY</th>\n      <th>CROSSWALKKEY</th>\n      <th>HITPARKEDCAR</th>\n    </tr>\n  </thead>\n  <tbody>\n    <tr>\n      <th>0</th>\n      <td>2</td>\n      <td>-122.323148</td>\n      <td>47.703140</td>\n      <td>1</td>\n      <td>1307</td>\n      <td>1307</td>\n      <td>3502005</td>\n      <td>Matched</td>\n      <td>Intersection</td>\n      <td>37475.0</td>\n      <td>...</td>\n      <td>Wet</td>\n      <td>Daylight</td>\n      <td>NaN</td>\n      <td>NaN</td>\n      <td>NaN</td>\n      <td>10</td>\n      <td>Entering at angle</td>\n      <td>0</td>\n      <td>0</td>\n      <td>N</td>\n    </tr>\n    <tr>\n      <th>1</th>\n      <td>1</td>\n      <td>-122.347294</td>\n      <td>47.647172</td>\n      <td>2</td>\n      <td>52200</td>\n      <td>52200</td>\n      <td>2607959</td>\n      <td>Matched</td>\n      <td>Block</td>\n      <td>NaN</td>\n      <td>...</td>\n      <td>Wet</td>\n      <td>Dark - Street Lights On</td>\n      <td>NaN</td>\n      <td>6354039.0</td>\n      <td>NaN</td>\n      <td>11</td>\n      <td>From same direction - both going straight - bo...</td>\n      <td>0</td>\n      <td>0</td>\n      <td>N</td>\n    </tr>\n    <tr>\n      <th>2</th>\n      <td>1</td>\n      <td>-122.334540</td>\n      <td>47.607871</td>\n      <td>3</td>\n      <td>26700</td>\n      <td>26700</td>\n      <td>1482393</td>\n      <td>Matched</td>\n      <td>Block</td>\n      <td>NaN</td>\n      <td>...</td>\n      <td>Dry</td>\n      <td>Daylight</td>\n      <td>NaN</td>\n      <td>4323031.0</td>\n      <td>NaN</td>\n      <td>32</td>\n      <td>One parked--one moving</td>\n      <td>0</td>\n      <td>0</td>\n      <td>N</td>\n    </tr>\n    <tr>\n      <th>3</th>\n      <td>1</td>\n      <td>-122.334803</td>\n      <td>47.604803</td>\n      <td>4</td>\n      <td>1144</td>\n      <td>1144</td>\n      <td>3503937</td>\n      <td>Matched</td>\n      <td>Block</td>\n      <td>NaN</td>\n      <td>...</td>\n      <td>Dry</td>\n      <td>Daylight</td>\n      <td>NaN</td>\n      <td>NaN</td>\n      <td>NaN</td>\n      <td>23</td>\n      <td>From same direction - all others</td>\n      <td>0</td>\n      <td>0</td>\n      <td>N</td>\n    </tr>\n    <tr>\n      <th>4</th>\n      <td>2</td>\n      <td>-122.306426</td>\n      <td>47.545739</td>\n      <td>5</td>\n      <td>17700</td>\n      <td>17700</td>\n      <td>1807429</td>\n      <td>Matched</td>\n      <td>Intersection</td>\n      <td>34387.0</td>\n      <td>...</td>\n      <td>Wet</td>\n      <td>Daylight</td>\n      <td>NaN</td>\n      <td>4028032.0</td>\n      <td>NaN</td>\n      <td>10</td>\n      <td>Entering at angle</td>\n      <td>0</td>\n      <td>0</td>\n      <td>N</td>\n    </tr>\n  </tbody>\n</table>\n<p>5 rows \u00d7 36 columns</p>\n</div>",
                        "text/plain": "   SEVERITYCODE           X          Y  OBJECTID  INCKEY  COLDETKEY REPORTNO  \\\n0             2 -122.323148  47.703140         1    1307       1307  3502005   \n1             1 -122.347294  47.647172         2   52200      52200  2607959   \n2             1 -122.334540  47.607871         3   26700      26700  1482393   \n3             1 -122.334803  47.604803         4    1144       1144  3503937   \n4             2 -122.306426  47.545739         5   17700      17700  1807429   \n\n    STATUS      ADDRTYPE   INTKEY  ... ROADCOND                LIGHTCOND  \\\n0  Matched  Intersection  37475.0  ...      Wet                 Daylight   \n1  Matched         Block      NaN  ...      Wet  Dark - Street Lights On   \n2  Matched         Block      NaN  ...      Dry                 Daylight   \n3  Matched         Block      NaN  ...      Dry                 Daylight   \n4  Matched  Intersection  34387.0  ...      Wet                 Daylight   \n\n  PEDROWNOTGRNT SDOTCOLNUM  SPEEDING  ST_COLCODE  \\\n0           NaN        NaN       NaN          10   \n1           NaN  6354039.0       NaN          11   \n2           NaN  4323031.0       NaN          32   \n3           NaN        NaN       NaN          23   \n4           NaN  4028032.0       NaN          10   \n\n                                          ST_COLDESC  SEGLANEKEY CROSSWALKKEY  \\\n0                                  Entering at angle           0            0   \n1  From same direction - both going straight - bo...           0            0   \n2                             One parked--one moving           0            0   \n3                   From same direction - all others           0            0   \n4                                  Entering at angle           0            0   \n\n  HITPARKEDCAR  \n0            N  \n1            N  \n2            N  \n3            N  \n4            N  \n\n[5 rows x 36 columns]"
                    },
                    "execution_count": 7,
                    "metadata": {},
                    "output_type": "execute_result"
                }
            ],
            "source": "#'SEVERITYCODE.1' is a duplicate of the data in 'SEVERITYCODE', and 'SEVERITYDESC' \n#is merely an explanation that 2= injury and 1= property damage only, so we can drop both of those columns\n\ndf= df.drop(['SEVERITYDESC', 'SEVERITYCODE.1'], axis=1)\ndf.head()"
        },
        {
            "cell_type": "code",
            "execution_count": 8,
            "metadata": {},
            "outputs": [
                {
                    "data": {
                        "text/plain": "Index(['SEVERITYCODE', 'X', 'Y', 'OBJECTID', 'INCKEY', 'COLDETKEY', 'REPORTNO',\n       'STATUS', 'ADDRTYPE', 'INTKEY', 'LOCATION', 'EXCEPTRSNCODE',\n       'EXCEPTRSNDESC', 'COLLISIONTYPE', 'PERSONCOUNT', 'PEDCOUNT',\n       'PEDCYLCOUNT', 'VEHCOUNT', 'INCDATE', 'INCDTTM', 'JUNCTIONTYPE',\n       'SDOT_COLCODE', 'SDOT_COLDESC', 'INATTENTIONIND', 'UNDERINFL',\n       'WEATHER', 'ROADCOND', 'LIGHTCOND', 'PEDROWNOTGRNT', 'SDOTCOLNUM',\n       'SPEEDING', 'ST_COLCODE', 'ST_COLDESC', 'SEGLANEKEY', 'CROSSWALKKEY',\n       'HITPARKEDCAR'],\n      dtype='object')"
                    },
                    "execution_count": 8,
                    "metadata": {},
                    "output_type": "execute_result"
                }
            ],
            "source": "#Let's take another look at the remaining columns\ndf.columns"
        },
        {
            "cell_type": "code",
            "execution_count": 9,
            "metadata": {},
            "outputs": [
                {
                    "data": {
                        "text/plain": "SEVERITYCODE           0\nX                   5334\nY                   5334\nOBJECTID               0\nINCKEY                 0\nCOLDETKEY              0\nREPORTNO               0\nSTATUS                 0\nADDRTYPE            1926\nINTKEY            129603\nLOCATION            2677\nEXCEPTRSNCODE     109862\nEXCEPTRSNDESC     189035\nCOLLISIONTYPE       4904\nPERSONCOUNT            0\nPEDCOUNT               0\nPEDCYLCOUNT            0\nVEHCOUNT               0\nINCDATE                0\nINCDTTM                0\nJUNCTIONTYPE        6329\nSDOT_COLCODE           0\nSDOT_COLDESC           0\nINATTENTIONIND    164868\nUNDERINFL           4884\nWEATHER             5081\nROADCOND            5012\nLIGHTCOND           5170\nPEDROWNOTGRNT     190006\nSDOTCOLNUM         79737\nSPEEDING          185340\nST_COLCODE            18\nST_COLDESC          4904\nSEGLANEKEY             0\nCROSSWALKKEY           0\nHITPARKEDCAR           0\ndtype: int64"
                    },
                    "execution_count": 9,
                    "metadata": {},
                    "output_type": "execute_result"
                }
            ],
            "source": "#And let's also take a look at the null values in each column\ndf.isnull().sum()"
        },
        {
            "cell_type": "markdown",
            "metadata": {},
            "source": "### Unfortunately, the values for the attributes Speeding, Pedestrian Way Not Granted, and Inattention contain too many null values to be included. \n\n### Luckily, Under The Influence, Weather, Road Conditions, and Light Conditions all have substantial entries to work with. "
        },
        {
            "cell_type": "code",
            "execution_count": 10,
            "metadata": {
                "scrolled": true
            },
            "outputs": [
                {
                    "data": {
                        "text/html": "<div>\n<style scoped>\n    .dataframe tbody tr th:only-of-type {\n        vertical-align: middle;\n    }\n\n    .dataframe tbody tr th {\n        vertical-align: top;\n    }\n\n    .dataframe thead th {\n        text-align: right;\n    }\n</style>\n<table border=\"1\" class=\"dataframe\">\n  <thead>\n    <tr style=\"text-align: right;\">\n      <th></th>\n      <th>SEVERITYCODE</th>\n      <th>UNDERINFL</th>\n      <th>WEATHER</th>\n      <th>ROADCOND</th>\n      <th>LIGHTCOND</th>\n    </tr>\n  </thead>\n  <tbody>\n    <tr>\n      <th>0</th>\n      <td>2</td>\n      <td>N</td>\n      <td>Overcast</td>\n      <td>Wet</td>\n      <td>Daylight</td>\n    </tr>\n    <tr>\n      <th>1</th>\n      <td>1</td>\n      <td>0</td>\n      <td>Raining</td>\n      <td>Wet</td>\n      <td>Dark - Street Lights On</td>\n    </tr>\n    <tr>\n      <th>2</th>\n      <td>1</td>\n      <td>0</td>\n      <td>Overcast</td>\n      <td>Dry</td>\n      <td>Daylight</td>\n    </tr>\n    <tr>\n      <th>3</th>\n      <td>1</td>\n      <td>N</td>\n      <td>Clear</td>\n      <td>Dry</td>\n      <td>Daylight</td>\n    </tr>\n    <tr>\n      <th>4</th>\n      <td>2</td>\n      <td>0</td>\n      <td>Raining</td>\n      <td>Wet</td>\n      <td>Daylight</td>\n    </tr>\n  </tbody>\n</table>\n</div>",
                        "text/plain": "   SEVERITYCODE UNDERINFL   WEATHER ROADCOND                LIGHTCOND\n0             2         N  Overcast      Wet                 Daylight\n1             1         0   Raining      Wet  Dark - Street Lights On\n2             1         0  Overcast      Dry                 Daylight\n3             1         N     Clear      Dry                 Daylight\n4             2         0   Raining      Wet                 Daylight"
                    },
                    "execution_count": 10,
                    "metadata": {},
                    "output_type": "execute_result"
                }
            ],
            "source": "#Let's create a new dataframe with the columns with these features.\ndf_clean= df[['SEVERITYCODE', 'UNDERINFL', 'WEATHER', 'ROADCOND', 'LIGHTCOND']]\ndf_clean.head()"
        },
        {
            "cell_type": "code",
            "execution_count": 11,
            "metadata": {},
            "outputs": [
                {
                    "name": "stderr",
                    "output_type": "stream",
                    "text": "/opt/conda/envs/Python36/lib/python3.6/site-packages/ipykernel/__main__.py:2: SettingWithCopyWarning: \nA value is trying to be set on a copy of a slice from a DataFrame\n\nSee the caveats in the documentation: http://pandas.pydata.org/pandas-docs/stable/indexing.html#indexing-view-versus-copy\n  from ipykernel import kernelapp as app\n"
                }
            ],
            "source": "#Let's drop the null values\ndf_clean.dropna(inplace= True)"
        },
        {
            "cell_type": "code",
            "execution_count": 12,
            "metadata": {},
            "outputs": [
                {
                    "data": {
                        "text/plain": "SEVERITYCODE    0\nUNDERINFL       0\nWEATHER         0\nROADCOND        0\nLIGHTCOND       0\ndtype: int64"
                    },
                    "execution_count": 12,
                    "metadata": {},
                    "output_type": "execute_result"
                }
            ],
            "source": "#And confirm that the drop was successful\ndf_clean.isnull().sum()"
        },
        {
            "cell_type": "markdown",
            "metadata": {},
            "source": "### Let's review the unique elements in our features:"
        },
        {
            "cell_type": "code",
            "execution_count": 73,
            "metadata": {},
            "outputs": [
                {
                    "data": {
                        "text/plain": "array(['N', '0', '1', 'Y'], dtype=object)"
                    },
                    "execution_count": 73,
                    "metadata": {},
                    "output_type": "execute_result"
                }
            ],
            "source": "df_clean['UNDERINFL'].unique()"
        },
        {
            "cell_type": "code",
            "execution_count": 74,
            "metadata": {},
            "outputs": [
                {
                    "data": {
                        "text/plain": "array(['Overcast', 'Raining', 'Clear', 'Unknown', 'Other', 'Snowing',\n       'Fog/Smog/Smoke', 'Sleet/Hail/Freezing Rain', 'Blowing Sand/Dirt',\n       'Severe Crosswind', 'Partly Cloudy'], dtype=object)"
                    },
                    "execution_count": 74,
                    "metadata": {},
                    "output_type": "execute_result"
                }
            ],
            "source": "df_clean['WEATHER'].unique()"
        },
        {
            "cell_type": "code",
            "execution_count": 75,
            "metadata": {},
            "outputs": [
                {
                    "data": {
                        "text/plain": "array(['Wet', 'Dry', 'Unknown', 'Snow/Slush', 'Ice', 'Other',\n       'Sand/Mud/Dirt', 'Standing Water', 'Oil'], dtype=object)"
                    },
                    "execution_count": 75,
                    "metadata": {},
                    "output_type": "execute_result"
                }
            ],
            "source": "df_clean['ROADCOND'].unique()"
        },
        {
            "cell_type": "code",
            "execution_count": 76,
            "metadata": {},
            "outputs": [
                {
                    "data": {
                        "text/plain": "array(['Daylight', 'Dark - Street Lights On', 'Dark - No Street Lights',\n       'Unknown', 'Dusk', 'Dawn', 'Dark - Street Lights Off', 'Other',\n       'Dark - Unknown Lighting'], dtype=object)"
                    },
                    "execution_count": 76,
                    "metadata": {},
                    "output_type": "execute_result"
                }
            ],
            "source": "df_clean['LIGHTCOND'].unique()"
        },
        {
            "cell_type": "markdown",
            "metadata": {},
            "source": "### And drop rows in which the conditions were 'Unknown' or 'Other'"
        },
        {
            "cell_type": "code",
            "execution_count": 80,
            "metadata": {},
            "outputs": [
                {
                    "data": {
                        "text/plain": "array(['Overcast', 'Raining', 'Clear', 'Snowing', 'Fog/Smog/Smoke',\n       'Sleet/Hail/Freezing Rain', 'Blowing Sand/Dirt',\n       'Severe Crosswind', 'Partly Cloudy'], dtype=object)"
                    },
                    "execution_count": 80,
                    "metadata": {},
                    "output_type": "execute_result"
                }
            ],
            "source": "df_clean.drop(df_clean.loc[df_clean['WEATHER']=='Other'].index, inplace=True)\ndf_clean.drop(df_clean.loc[df_clean['WEATHER']=='Unknown'].index, inplace=True)\ndf_clean['WEATHER'].unique()"
        },
        {
            "cell_type": "code",
            "execution_count": 81,
            "metadata": {},
            "outputs": [
                {
                    "data": {
                        "text/plain": "array(['Wet', 'Dry', 'Snow/Slush', 'Ice', 'Sand/Mud/Dirt',\n       'Standing Water', 'Oil'], dtype=object)"
                    },
                    "execution_count": 81,
                    "metadata": {},
                    "output_type": "execute_result"
                }
            ],
            "source": "df_clean.drop(df_clean.loc[df_clean['ROADCOND']=='Other'].index, inplace=True)\ndf_clean.drop(df_clean.loc[df_clean['ROADCOND']=='Unknown'].index, inplace=True)\ndf_clean['ROADCOND'].unique()"
        },
        {
            "cell_type": "code",
            "execution_count": 82,
            "metadata": {},
            "outputs": [
                {
                    "data": {
                        "text/plain": "array(['Daylight', 'Dark - Street Lights On', 'Dark - No Street Lights',\n       'Unknown', 'Dusk', 'Dawn', 'Dark - Street Lights Off',\n       'Dark - Unknown Lighting'], dtype=object)"
                    },
                    "execution_count": 82,
                    "metadata": {},
                    "output_type": "execute_result"
                }
            ],
            "source": "df_clean.drop(df_clean.loc[df_clean['LIGHTCOND']=='Other'].index, inplace=True)\ndf_clean['LIGHTCOND'].unique()"
        },
        {
            "cell_type": "markdown",
            "metadata": {},
            "source": "### And convert 'Y's to '1's, and 'N's to '0's in the UNDERINFL column "
        },
        {
            "cell_type": "code",
            "execution_count": 83,
            "metadata": {},
            "outputs": [
                {
                    "name": "stderr",
                    "output_type": "stream",
                    "text": "/opt/conda/envs/Python36/lib/python3.6/site-packages/ipykernel/__main__.py:1: SettingWithCopyWarning: \nA value is trying to be set on a copy of a slice from a DataFrame.\nTry using .loc[row_indexer,col_indexer] = value instead\n\nSee the caveats in the documentation: http://pandas.pydata.org/pandas-docs/stable/indexing.html#indexing-view-versus-copy\n  if __name__ == '__main__':\n/opt/conda/envs/Python36/lib/python3.6/site-packages/ipykernel/__main__.py:2: SettingWithCopyWarning: \nA value is trying to be set on a copy of a slice from a DataFrame.\nTry using .loc[row_indexer,col_indexer] = value instead\n\nSee the caveats in the documentation: http://pandas.pydata.org/pandas-docs/stable/indexing.html#indexing-view-versus-copy\n  from ipykernel import kernelapp as app\n"
                },
                {
                    "data": {
                        "text/html": "<div>\n<style scoped>\n    .dataframe tbody tr th:only-of-type {\n        vertical-align: middle;\n    }\n\n    .dataframe tbody tr th {\n        vertical-align: top;\n    }\n\n    .dataframe thead th {\n        text-align: right;\n    }\n</style>\n<table border=\"1\" class=\"dataframe\">\n  <thead>\n    <tr style=\"text-align: right;\">\n      <th></th>\n      <th>SEVERITYCODE</th>\n      <th>UNDERINFL</th>\n      <th>WEATHER</th>\n      <th>ROADCOND</th>\n      <th>LIGHTCOND</th>\n    </tr>\n  </thead>\n  <tbody>\n    <tr>\n      <th>0</th>\n      <td>2</td>\n      <td>0</td>\n      <td>Overcast</td>\n      <td>Wet</td>\n      <td>Daylight</td>\n    </tr>\n    <tr>\n      <th>1</th>\n      <td>1</td>\n      <td>0</td>\n      <td>Raining</td>\n      <td>Wet</td>\n      <td>Dark - Street Lights On</td>\n    </tr>\n    <tr>\n      <th>2</th>\n      <td>1</td>\n      <td>0</td>\n      <td>Overcast</td>\n      <td>Dry</td>\n      <td>Daylight</td>\n    </tr>\n    <tr>\n      <th>3</th>\n      <td>1</td>\n      <td>0</td>\n      <td>Clear</td>\n      <td>Dry</td>\n      <td>Daylight</td>\n    </tr>\n    <tr>\n      <th>4</th>\n      <td>2</td>\n      <td>0</td>\n      <td>Raining</td>\n      <td>Wet</td>\n      <td>Daylight</td>\n    </tr>\n  </tbody>\n</table>\n</div>",
                        "text/plain": "   SEVERITYCODE UNDERINFL   WEATHER ROADCOND                LIGHTCOND\n0             2         0  Overcast      Wet                 Daylight\n1             1         0   Raining      Wet  Dark - Street Lights On\n2             1         0  Overcast      Dry                 Daylight\n3             1         0     Clear      Dry                 Daylight\n4             2         0   Raining      Wet                 Daylight"
                    },
                    "execution_count": 83,
                    "metadata": {},
                    "output_type": "execute_result"
                }
            ],
            "source": "df_clean['UNDERINFL']= df_clean['UNDERINFL'].replace(['Y'],'1') \ndf_clean['UNDERINFL']= df_clean['UNDERINFL'].replace(['N'],'0')\ndf_clean.head()"
        },
        {
            "cell_type": "code",
            "execution_count": 84,
            "metadata": {},
            "outputs": [
                {
                    "data": {
                        "text/plain": "array(['0', '1'], dtype=object)"
                    },
                    "execution_count": 84,
                    "metadata": {},
                    "output_type": "execute_result"
                }
            ],
            "source": "#We confirm that all elements in the UNDERINFL column are now 0s and 1s\ndf_clean['UNDERINFL'].unique()"
        },
        {
            "cell_type": "code",
            "execution_count": 85,
            "metadata": {},
            "outputs": [
                {
                    "name": "stderr",
                    "output_type": "stream",
                    "text": "/opt/conda/envs/Python36/lib/python3.6/site-packages/ipykernel/__main__.py:1: SettingWithCopyWarning: \nA value is trying to be set on a copy of a slice from a DataFrame.\nTry using .loc[row_indexer,col_indexer] = value instead\n\nSee the caveats in the documentation: http://pandas.pydata.org/pandas-docs/stable/indexing.html#indexing-view-versus-copy\n  if __name__ == '__main__':\n"
                },
                {
                    "data": {
                        "text/plain": "dtype('int64')"
                    },
                    "execution_count": 85,
                    "metadata": {},
                    "output_type": "execute_result"
                }
            ],
            "source": "#As you can see in the line above, the datatype for UNDERINFL is still object, so we perform astype() and change those values to int64\ndf_clean['UNDERINFL'] = df_clean['UNDERINFL'].astype(int)\ndf_clean['UNDERINFL'].dtype"
        },
        {
            "cell_type": "markdown",
            "metadata": {},
            "source": "### Using the unique function again to confirm that the empty values have been successfully removed:"
        },
        {
            "cell_type": "code",
            "execution_count": 93,
            "metadata": {},
            "outputs": [
                {
                    "data": {
                        "text/plain": "array(['Overcast', 'Raining', 'Clear', 'Snowing', 'Fog/Smog/Smoke',\n       'Sleet/Hail/Freezing Rain', 'Blowing Sand/Dirt',\n       'Severe Crosswind', 'Partly Cloudy'], dtype=object)"
                    },
                    "execution_count": 93,
                    "metadata": {},
                    "output_type": "execute_result"
                }
            ],
            "source": "df_clean['WEATHER'].unique()"
        },
        {
            "cell_type": "code",
            "execution_count": 97,
            "metadata": {},
            "outputs": [
                {
                    "data": {
                        "text/plain": "array(['Daylight', 'Dark - Street Lights On', 'Dark - No Street Lights',\n       'Unknown', 'Dusk', 'Dawn', 'Dark - Street Lights Off',\n       'Dark - Unknown Lighting'], dtype=object)"
                    },
                    "execution_count": 97,
                    "metadata": {},
                    "output_type": "execute_result"
                }
            ],
            "source": "df_clean['LIGHTCOND'].unique()"
        },
        {
            "cell_type": "code",
            "execution_count": 98,
            "metadata": {},
            "outputs": [
                {
                    "data": {
                        "text/plain": "array(['Wet', 'Dry', 'Snow/Slush', 'Ice', 'Sand/Mud/Dirt',\n       'Standing Water', 'Oil'], dtype=object)"
                    },
                    "execution_count": 98,
                    "metadata": {},
                    "output_type": "execute_result"
                }
            ],
            "source": "df_clean['ROADCOND'].unique()"
        },
        {
            "cell_type": "markdown",
            "metadata": {},
            "source": "### NOW WHAT??? Do we need to perform Label Encoding on the Weather, Road Conditions, and Light Conditions columns so that we may use machine learning? Or can we leave them as categorical variables and use a decision tree or something else???"
        },
        {
            "cell_type": "code",
            "execution_count": 101,
            "metadata": {},
            "outputs": [
                {
                    "data": {
                        "text/plain": "array([['Wet', 'Overcast', 'Daylight'],\n       ['Wet', 'Raining', 'Dark - Street Lights On'],\n       ['Dry', 'Overcast', 'Daylight'],\n       ['Dry', 'Clear', 'Daylight']], dtype=object)"
                    },
                    "execution_count": 101,
                    "metadata": {},
                    "output_type": "execute_result"
                }
            ],
            "source": "#So, I looked up the lab from class on Decision Trees because I read somewhere that they were better for categorical variables.\n#But then I saw that I still needed to convert the data into numerical values \n#(at this point I was wondering why there was any advantage over other algorithms, \n#but i was already looking for ways to encode my data so I decided to try) \n\n#The thing I was most confused about here is what values should be held within the X[0:?] . . . \n#I tried different numbers but I couldn't tell what that value was doing, or really this whole piece of code\n#(And furthermore-- why does it say \"ValueError: y contains previously unseen labels: 'Daylight'\" below when I didn't even specify Y yet?\")\n\nX = df_clean[['ROADCOND', 'WEATHER', 'LIGHTCOND']].values\nX[0:4]"
        },
        {
            "cell_type": "code",
            "execution_count": 102,
            "metadata": {},
            "outputs": [
                {
                    "ename": "ValueError",
                    "evalue": "y contains previously unseen labels: 'Daylight'",
                    "output_type": "error",
                    "traceback": [
                        "\u001b[0;31m---------------------------------------------------------------------------\u001b[0m",
                        "\u001b[0;31mKeyError\u001b[0m                                  Traceback (most recent call last)",
                        "\u001b[0;32m/opt/conda/envs/Python36/lib/python3.6/site-packages/sklearn/preprocessing/label.py\u001b[0m in \u001b[0;36m_encode_python\u001b[0;34m(values, uniques, encode)\u001b[0m\n\u001b[1;32m     67\u001b[0m         \u001b[0;32mtry\u001b[0m\u001b[0;34m:\u001b[0m\u001b[0;34m\u001b[0m\u001b[0;34m\u001b[0m\u001b[0m\n\u001b[0;32m---> 68\u001b[0;31m             \u001b[0mencoded\u001b[0m \u001b[0;34m=\u001b[0m \u001b[0mnp\u001b[0m\u001b[0;34m.\u001b[0m\u001b[0marray\u001b[0m\u001b[0;34m(\u001b[0m\u001b[0;34m[\u001b[0m\u001b[0mtable\u001b[0m\u001b[0;34m[\u001b[0m\u001b[0mv\u001b[0m\u001b[0;34m]\u001b[0m \u001b[0;32mfor\u001b[0m \u001b[0mv\u001b[0m \u001b[0;32min\u001b[0m \u001b[0mvalues\u001b[0m\u001b[0;34m]\u001b[0m\u001b[0;34m)\u001b[0m\u001b[0;34m\u001b[0m\u001b[0;34m\u001b[0m\u001b[0m\n\u001b[0m\u001b[1;32m     69\u001b[0m         \u001b[0;32mexcept\u001b[0m \u001b[0mKeyError\u001b[0m \u001b[0;32mas\u001b[0m \u001b[0me\u001b[0m\u001b[0;34m:\u001b[0m\u001b[0;34m\u001b[0m\u001b[0;34m\u001b[0m\u001b[0m\n",
                        "\u001b[0;32m/opt/conda/envs/Python36/lib/python3.6/site-packages/sklearn/preprocessing/label.py\u001b[0m in \u001b[0;36m<listcomp>\u001b[0;34m(.0)\u001b[0m\n\u001b[1;32m     67\u001b[0m         \u001b[0;32mtry\u001b[0m\u001b[0;34m:\u001b[0m\u001b[0;34m\u001b[0m\u001b[0;34m\u001b[0m\u001b[0m\n\u001b[0;32m---> 68\u001b[0;31m             \u001b[0mencoded\u001b[0m \u001b[0;34m=\u001b[0m \u001b[0mnp\u001b[0m\u001b[0;34m.\u001b[0m\u001b[0marray\u001b[0m\u001b[0;34m(\u001b[0m\u001b[0;34m[\u001b[0m\u001b[0mtable\u001b[0m\u001b[0;34m[\u001b[0m\u001b[0mv\u001b[0m\u001b[0;34m]\u001b[0m \u001b[0;32mfor\u001b[0m \u001b[0mv\u001b[0m \u001b[0;32min\u001b[0m \u001b[0mvalues\u001b[0m\u001b[0;34m]\u001b[0m\u001b[0;34m)\u001b[0m\u001b[0;34m\u001b[0m\u001b[0;34m\u001b[0m\u001b[0m\n\u001b[0m\u001b[1;32m     69\u001b[0m         \u001b[0;32mexcept\u001b[0m \u001b[0mKeyError\u001b[0m \u001b[0;32mas\u001b[0m \u001b[0me\u001b[0m\u001b[0;34m:\u001b[0m\u001b[0;34m\u001b[0m\u001b[0;34m\u001b[0m\u001b[0m\n",
                        "\u001b[0;31mKeyError\u001b[0m: 'Daylight'",
                        "\nDuring handling of the above exception, another exception occurred:\n",
                        "\u001b[0;31mValueError\u001b[0m                                Traceback (most recent call last)",
                        "\u001b[0;32m<ipython-input-102-17f6b50343a5>\u001b[0m in \u001b[0;36m<module>\u001b[0;34m\u001b[0m\n\u001b[1;32m      2\u001b[0m \u001b[0mle_weather\u001b[0m \u001b[0;34m=\u001b[0m \u001b[0mpreprocessing\u001b[0m\u001b[0;34m.\u001b[0m\u001b[0mLabelEncoder\u001b[0m\u001b[0;34m(\u001b[0m\u001b[0;34m)\u001b[0m\u001b[0;34m\u001b[0m\u001b[0;34m\u001b[0m\u001b[0m\n\u001b[1;32m      3\u001b[0m \u001b[0mle_weather\u001b[0m\u001b[0;34m.\u001b[0m\u001b[0mfit\u001b[0m\u001b[0;34m(\u001b[0m\u001b[0;34m[\u001b[0m\u001b[0;34m'Overcast'\u001b[0m\u001b[0;34m,\u001b[0m \u001b[0;34m'Raining'\u001b[0m\u001b[0;34m,\u001b[0m \u001b[0;34m'Clear'\u001b[0m\u001b[0;34m,\u001b[0m \u001b[0;34m'Snowing'\u001b[0m\u001b[0;34m,\u001b[0m \u001b[0;34m'Fog/Smog/Smoke'\u001b[0m\u001b[0;34m,\u001b[0m\u001b[0;34m'Sleet/Hail/Freezing Rain'\u001b[0m\u001b[0;34m,\u001b[0m \u001b[0;34m'Blowing Sand/Dirt'\u001b[0m\u001b[0;34m,\u001b[0m\u001b[0;34m'Severe Crosswind'\u001b[0m\u001b[0;34m,\u001b[0m \u001b[0;34m'Partly Cloudy'\u001b[0m\u001b[0;34m]\u001b[0m\u001b[0;34m)\u001b[0m\u001b[0;34m\u001b[0m\u001b[0;34m\u001b[0m\u001b[0m\n\u001b[0;32m----> 4\u001b[0;31m \u001b[0mX\u001b[0m\u001b[0;34m[\u001b[0m\u001b[0;34m:\u001b[0m\u001b[0;34m,\u001b[0m\u001b[0;36m2\u001b[0m\u001b[0;34m]\u001b[0m \u001b[0;34m=\u001b[0m \u001b[0mle_weather\u001b[0m\u001b[0;34m.\u001b[0m\u001b[0mtransform\u001b[0m\u001b[0;34m(\u001b[0m\u001b[0mX\u001b[0m\u001b[0;34m[\u001b[0m\u001b[0;34m:\u001b[0m\u001b[0;34m,\u001b[0m\u001b[0;36m2\u001b[0m\u001b[0;34m]\u001b[0m\u001b[0;34m)\u001b[0m\u001b[0;34m\u001b[0m\u001b[0;34m\u001b[0m\u001b[0m\n\u001b[0m\u001b[1;32m      5\u001b[0m \u001b[0;34m\u001b[0m\u001b[0m\n\u001b[1;32m      6\u001b[0m \u001b[0;34m\u001b[0m\u001b[0m\n",
                        "\u001b[0;32m/opt/conda/envs/Python36/lib/python3.6/site-packages/sklearn/preprocessing/label.py\u001b[0m in \u001b[0;36mtransform\u001b[0;34m(self, y)\u001b[0m\n\u001b[1;32m    255\u001b[0m             \u001b[0;32mreturn\u001b[0m \u001b[0mnp\u001b[0m\u001b[0;34m.\u001b[0m\u001b[0marray\u001b[0m\u001b[0;34m(\u001b[0m\u001b[0;34m[\u001b[0m\u001b[0;34m]\u001b[0m\u001b[0;34m)\u001b[0m\u001b[0;34m\u001b[0m\u001b[0;34m\u001b[0m\u001b[0m\n\u001b[1;32m    256\u001b[0m \u001b[0;34m\u001b[0m\u001b[0m\n\u001b[0;32m--> 257\u001b[0;31m         \u001b[0m_\u001b[0m\u001b[0;34m,\u001b[0m \u001b[0my\u001b[0m \u001b[0;34m=\u001b[0m \u001b[0m_encode\u001b[0m\u001b[0;34m(\u001b[0m\u001b[0my\u001b[0m\u001b[0;34m,\u001b[0m \u001b[0muniques\u001b[0m\u001b[0;34m=\u001b[0m\u001b[0mself\u001b[0m\u001b[0;34m.\u001b[0m\u001b[0mclasses_\u001b[0m\u001b[0;34m,\u001b[0m \u001b[0mencode\u001b[0m\u001b[0;34m=\u001b[0m\u001b[0;32mTrue\u001b[0m\u001b[0;34m)\u001b[0m\u001b[0;34m\u001b[0m\u001b[0;34m\u001b[0m\u001b[0m\n\u001b[0m\u001b[1;32m    258\u001b[0m         \u001b[0;32mreturn\u001b[0m \u001b[0my\u001b[0m\u001b[0;34m\u001b[0m\u001b[0;34m\u001b[0m\u001b[0m\n\u001b[1;32m    259\u001b[0m \u001b[0;34m\u001b[0m\u001b[0m\n",
                        "\u001b[0;32m/opt/conda/envs/Python36/lib/python3.6/site-packages/sklearn/preprocessing/label.py\u001b[0m in \u001b[0;36m_encode\u001b[0;34m(values, uniques, encode)\u001b[0m\n\u001b[1;32m    106\u001b[0m     \"\"\"\n\u001b[1;32m    107\u001b[0m     \u001b[0;32mif\u001b[0m \u001b[0mvalues\u001b[0m\u001b[0;34m.\u001b[0m\u001b[0mdtype\u001b[0m \u001b[0;34m==\u001b[0m \u001b[0mobject\u001b[0m\u001b[0;34m:\u001b[0m\u001b[0;34m\u001b[0m\u001b[0;34m\u001b[0m\u001b[0m\n\u001b[0;32m--> 108\u001b[0;31m         \u001b[0;32mreturn\u001b[0m \u001b[0m_encode_python\u001b[0m\u001b[0;34m(\u001b[0m\u001b[0mvalues\u001b[0m\u001b[0;34m,\u001b[0m \u001b[0muniques\u001b[0m\u001b[0;34m,\u001b[0m \u001b[0mencode\u001b[0m\u001b[0;34m)\u001b[0m\u001b[0;34m\u001b[0m\u001b[0;34m\u001b[0m\u001b[0m\n\u001b[0m\u001b[1;32m    109\u001b[0m     \u001b[0;32melse\u001b[0m\u001b[0;34m:\u001b[0m\u001b[0;34m\u001b[0m\u001b[0;34m\u001b[0m\u001b[0m\n\u001b[1;32m    110\u001b[0m         \u001b[0;32mreturn\u001b[0m \u001b[0m_encode_numpy\u001b[0m\u001b[0;34m(\u001b[0m\u001b[0mvalues\u001b[0m\u001b[0;34m,\u001b[0m \u001b[0muniques\u001b[0m\u001b[0;34m,\u001b[0m \u001b[0mencode\u001b[0m\u001b[0;34m)\u001b[0m\u001b[0;34m\u001b[0m\u001b[0;34m\u001b[0m\u001b[0m\n",
                        "\u001b[0;32m/opt/conda/envs/Python36/lib/python3.6/site-packages/sklearn/preprocessing/label.py\u001b[0m in \u001b[0;36m_encode_python\u001b[0;34m(values, uniques, encode)\u001b[0m\n\u001b[1;32m     69\u001b[0m         \u001b[0;32mexcept\u001b[0m \u001b[0mKeyError\u001b[0m \u001b[0;32mas\u001b[0m \u001b[0me\u001b[0m\u001b[0;34m:\u001b[0m\u001b[0;34m\u001b[0m\u001b[0;34m\u001b[0m\u001b[0m\n\u001b[1;32m     70\u001b[0m             raise ValueError(\"y contains previously unseen labels: %s\"\n\u001b[0;32m---> 71\u001b[0;31m                              % str(e))\n\u001b[0m\u001b[1;32m     72\u001b[0m         \u001b[0;32mreturn\u001b[0m \u001b[0muniques\u001b[0m\u001b[0;34m,\u001b[0m \u001b[0mencoded\u001b[0m\u001b[0;34m\u001b[0m\u001b[0;34m\u001b[0m\u001b[0m\n\u001b[1;32m     73\u001b[0m     \u001b[0;32melse\u001b[0m\u001b[0;34m:\u001b[0m\u001b[0;34m\u001b[0m\u001b[0;34m\u001b[0m\u001b[0m\n",
                        "\u001b[0;31mValueError\u001b[0m: y contains previously unseen labels: 'Daylight'"
                    ]
                }
            ],
            "source": "#Once and a great while, I read my errors and I understand all or parts of them. \n#This is not one of these times. \n\nfrom sklearn import preprocessing\nle_weather = preprocessing.LabelEncoder()\nle_weather.fit(['Overcast', 'Raining', 'Clear', 'Snowing', 'Fog/Smog/Smoke','Sleet/Hail/Freezing Rain', 'Blowing Sand/Dirt','Severe Crosswind', 'Partly Cloudy'])\nX[:,2] = le_weather.transform(X[:,2]) \n\n\nle_ROADCOND = preprocessing.LabelEncoder()\nle_ROADCOND.fit(['Wet', 'Dry', 'Snow/Slush', 'Ice', 'Sand/Mud/Dirt','Standing Water', 'Oil'])\nX[:,3] = le_ROADCOND.transform(X[:,3])\n\n\nle_LIGHTCOND = preprocessing.LabelEncoder()\nle_LIGHTCOND.fit(['Daylight', 'Dark - Street Lights On', 'Dark - No Street Lights','Unknown', 'Dusk', 'Dawn', 'Dark - Street Lights Off','Dark - Unknown Lighting'])\nX[:,4] = le_LIGHTCOND.transform(X[:,4]) \n\nX[0:4]"
        },
        {
            "cell_type": "markdown",
            "metadata": {},
            "source": "### Since the code above didn't work, I didn't continue to the next step"
        },
        {
            "cell_type": "code",
            "execution_count": 23,
            "metadata": {},
            "outputs": [
                {
                    "name": "stderr",
                    "output_type": "stream",
                    "text": "/opt/conda/envs/Python36/lib/python3.6/site-packages/ipykernel/__main__.py:5: SettingWithCopyWarning: \nA value is trying to be set on a copy of a slice from a DataFrame.\nTry using .loc[row_indexer,col_indexer] = value instead\n\nSee the caveats in the documentation: http://pandas.pydata.org/pandas-docs/stable/indexing.html#indexing-view-versus-copy\n"
                },
                {
                    "data": {
                        "text/plain": "array([3, 5, 1, 8, 2, 7, 0, 6, 4])"
                    },
                    "execution_count": 23,
                    "metadata": {},
                    "output_type": "execute_result"
                }
            ],
            "source": "#I had actually tried this much earlier but the example I was following didn't have as much information.\n#And I did actually create that numerical array;\n#But then I saw those numbers and I thought okay but NOW WHAT??? \n#What use is finding out I have a bunch of 3s and 5s if I can't remember which is rain and which is overcast?\n#Do we keep the original strings somewhere else to refer to? Or do we encode them back at some point?\n\nfrom sklearn import preprocessing \n\nlabel_encoder = preprocessing.LabelEncoder() \n  \ndf_clean['WEATHER']= label_encoder.fit_transform(df_clean['WEATHER']) \n  \ndf_clean['WEATHER'].unique() "
        },
        {
            "cell_type": "code",
            "execution_count": 24,
            "metadata": {},
            "outputs": [
                {
                    "data": {
                        "text/html": "<div>\n<style scoped>\n    .dataframe tbody tr th:only-of-type {\n        vertical-align: middle;\n    }\n\n    .dataframe tbody tr th {\n        vertical-align: top;\n    }\n\n    .dataframe thead th {\n        text-align: right;\n    }\n</style>\n<table border=\"1\" class=\"dataframe\">\n  <thead>\n    <tr style=\"text-align: right;\">\n      <th></th>\n      <th>SEVERITYCODE</th>\n      <th>UNDERINFL</th>\n      <th>WEATHER</th>\n      <th>ROADCOND</th>\n      <th>LIGHTCOND</th>\n    </tr>\n  </thead>\n  <tbody>\n    <tr>\n      <th>0</th>\n      <td>2</td>\n      <td>0</td>\n      <td>3</td>\n      <td>Wet</td>\n      <td>Daylight</td>\n    </tr>\n    <tr>\n      <th>1</th>\n      <td>1</td>\n      <td>0</td>\n      <td>5</td>\n      <td>Wet</td>\n      <td>Dark - Street Lights On</td>\n    </tr>\n    <tr>\n      <th>2</th>\n      <td>1</td>\n      <td>0</td>\n      <td>3</td>\n      <td>Dry</td>\n      <td>Daylight</td>\n    </tr>\n    <tr>\n      <th>3</th>\n      <td>1</td>\n      <td>0</td>\n      <td>1</td>\n      <td>Dry</td>\n      <td>Daylight</td>\n    </tr>\n    <tr>\n      <th>4</th>\n      <td>2</td>\n      <td>0</td>\n      <td>5</td>\n      <td>Wet</td>\n      <td>Daylight</td>\n    </tr>\n    <tr>\n      <th>5</th>\n      <td>1</td>\n      <td>0</td>\n      <td>1</td>\n      <td>Dry</td>\n      <td>Daylight</td>\n    </tr>\n    <tr>\n      <th>6</th>\n      <td>1</td>\n      <td>0</td>\n      <td>5</td>\n      <td>Wet</td>\n      <td>Daylight</td>\n    </tr>\n    <tr>\n      <th>7</th>\n      <td>2</td>\n      <td>0</td>\n      <td>1</td>\n      <td>Dry</td>\n      <td>Daylight</td>\n    </tr>\n    <tr>\n      <th>8</th>\n      <td>1</td>\n      <td>0</td>\n      <td>1</td>\n      <td>Dry</td>\n      <td>Daylight</td>\n    </tr>\n    <tr>\n      <th>9</th>\n      <td>2</td>\n      <td>0</td>\n      <td>1</td>\n      <td>Dry</td>\n      <td>Daylight</td>\n    </tr>\n    <tr>\n      <th>10</th>\n      <td>1</td>\n      <td>0</td>\n      <td>3</td>\n      <td>Dry</td>\n      <td>Daylight</td>\n    </tr>\n    <tr>\n      <th>11</th>\n      <td>1</td>\n      <td>0</td>\n      <td>1</td>\n      <td>Dry</td>\n      <td>Daylight</td>\n    </tr>\n    <tr>\n      <th>12</th>\n      <td>1</td>\n      <td>0</td>\n      <td>5</td>\n      <td>Wet</td>\n      <td>Dark - Street Lights On</td>\n    </tr>\n    <tr>\n      <th>13</th>\n      <td>1</td>\n      <td>0</td>\n      <td>5</td>\n      <td>Wet</td>\n      <td>Dark - No Street Lights</td>\n    </tr>\n    <tr>\n      <th>14</th>\n      <td>2</td>\n      <td>0</td>\n      <td>1</td>\n      <td>Dry</td>\n      <td>Dark - Street Lights On</td>\n    </tr>\n    <tr>\n      <th>16</th>\n      <td>2</td>\n      <td>0</td>\n      <td>3</td>\n      <td>Dry</td>\n      <td>Daylight</td>\n    </tr>\n    <tr>\n      <th>17</th>\n      <td>1</td>\n      <td>0</td>\n      <td>3</td>\n      <td>Dry</td>\n      <td>Daylight</td>\n    </tr>\n    <tr>\n      <th>18</th>\n      <td>2</td>\n      <td>0</td>\n      <td>1</td>\n      <td>Dry</td>\n      <td>Daylight</td>\n    </tr>\n    <tr>\n      <th>20</th>\n      <td>2</td>\n      <td>0</td>\n      <td>1</td>\n      <td>Dry</td>\n      <td>Dark - Street Lights On</td>\n    </tr>\n    <tr>\n      <th>21</th>\n      <td>2</td>\n      <td>0</td>\n      <td>1</td>\n      <td>Dry</td>\n      <td>Daylight</td>\n    </tr>\n    <tr>\n      <th>22</th>\n      <td>1</td>\n      <td>0</td>\n      <td>1</td>\n      <td>Dry</td>\n      <td>Dark - Street Lights On</td>\n    </tr>\n    <tr>\n      <th>24</th>\n      <td>2</td>\n      <td>0</td>\n      <td>1</td>\n      <td>Dry</td>\n      <td>Daylight</td>\n    </tr>\n    <tr>\n      <th>25</th>\n      <td>2</td>\n      <td>0</td>\n      <td>1</td>\n      <td>Dry</td>\n      <td>Daylight</td>\n    </tr>\n    <tr>\n      <th>26</th>\n      <td>1</td>\n      <td>0</td>\n      <td>3</td>\n      <td>Wet</td>\n      <td>Unknown</td>\n    </tr>\n    <tr>\n      <th>27</th>\n      <td>1</td>\n      <td>0</td>\n      <td>1</td>\n      <td>Dry</td>\n      <td>Daylight</td>\n    </tr>\n    <tr>\n      <th>28</th>\n      <td>1</td>\n      <td>0</td>\n      <td>1</td>\n      <td>Dry</td>\n      <td>Daylight</td>\n    </tr>\n    <tr>\n      <th>29</th>\n      <td>1</td>\n      <td>0</td>\n      <td>1</td>\n      <td>Dry</td>\n      <td>Daylight</td>\n    </tr>\n    <tr>\n      <th>30</th>\n      <td>1</td>\n      <td>0</td>\n      <td>5</td>\n      <td>Wet</td>\n      <td>Dark - Street Lights On</td>\n    </tr>\n    <tr>\n      <th>31</th>\n      <td>1</td>\n      <td>0</td>\n      <td>1</td>\n      <td>Dry</td>\n      <td>Dark - Street Lights On</td>\n    </tr>\n    <tr>\n      <th>32</th>\n      <td>1</td>\n      <td>0</td>\n      <td>1</td>\n      <td>Dry</td>\n      <td>Daylight</td>\n    </tr>\n    <tr>\n      <th>...</th>\n      <td>...</td>\n      <td>...</td>\n      <td>...</td>\n      <td>...</td>\n      <td>...</td>\n    </tr>\n    <tr>\n      <th>194639</th>\n      <td>1</td>\n      <td>0</td>\n      <td>5</td>\n      <td>Wet</td>\n      <td>Daylight</td>\n    </tr>\n    <tr>\n      <th>194640</th>\n      <td>2</td>\n      <td>0</td>\n      <td>3</td>\n      <td>Wet</td>\n      <td>Dark - Street Lights Off</td>\n    </tr>\n    <tr>\n      <th>194641</th>\n      <td>1</td>\n      <td>0</td>\n      <td>1</td>\n      <td>Dry</td>\n      <td>Daylight</td>\n    </tr>\n    <tr>\n      <th>194642</th>\n      <td>1</td>\n      <td>0</td>\n      <td>1</td>\n      <td>Dry</td>\n      <td>Daylight</td>\n    </tr>\n    <tr>\n      <th>194643</th>\n      <td>1</td>\n      <td>0</td>\n      <td>1</td>\n      <td>Dry</td>\n      <td>Dark - Street Lights On</td>\n    </tr>\n    <tr>\n      <th>194644</th>\n      <td>1</td>\n      <td>0</td>\n      <td>1</td>\n      <td>Dry</td>\n      <td>Dusk</td>\n    </tr>\n    <tr>\n      <th>194645</th>\n      <td>2</td>\n      <td>0</td>\n      <td>1</td>\n      <td>Dry</td>\n      <td>Dark - Street Lights On</td>\n    </tr>\n    <tr>\n      <th>194647</th>\n      <td>2</td>\n      <td>0</td>\n      <td>5</td>\n      <td>Wet</td>\n      <td>Dusk</td>\n    </tr>\n    <tr>\n      <th>194648</th>\n      <td>1</td>\n      <td>1</td>\n      <td>5</td>\n      <td>Wet</td>\n      <td>Dark - Street Lights On</td>\n    </tr>\n    <tr>\n      <th>194649</th>\n      <td>2</td>\n      <td>0</td>\n      <td>1</td>\n      <td>Dry</td>\n      <td>Dark - Street Lights On</td>\n    </tr>\n    <tr>\n      <th>194650</th>\n      <td>2</td>\n      <td>0</td>\n      <td>1</td>\n      <td>Dry</td>\n      <td>Daylight</td>\n    </tr>\n    <tr>\n      <th>194651</th>\n      <td>1</td>\n      <td>0</td>\n      <td>1</td>\n      <td>Wet</td>\n      <td>Dark - Street Lights On</td>\n    </tr>\n    <tr>\n      <th>194652</th>\n      <td>1</td>\n      <td>0</td>\n      <td>3</td>\n      <td>Wet</td>\n      <td>Dusk</td>\n    </tr>\n    <tr>\n      <th>194653</th>\n      <td>2</td>\n      <td>1</td>\n      <td>3</td>\n      <td>Wet</td>\n      <td>Dark - Street Lights On</td>\n    </tr>\n    <tr>\n      <th>194656</th>\n      <td>2</td>\n      <td>0</td>\n      <td>1</td>\n      <td>Dry</td>\n      <td>Daylight</td>\n    </tr>\n    <tr>\n      <th>194657</th>\n      <td>1</td>\n      <td>0</td>\n      <td>5</td>\n      <td>Wet</td>\n      <td>Dark - Street Lights On</td>\n    </tr>\n    <tr>\n      <th>194658</th>\n      <td>1</td>\n      <td>0</td>\n      <td>5</td>\n      <td>Wet</td>\n      <td>Dark - Street Lights On</td>\n    </tr>\n    <tr>\n      <th>194659</th>\n      <td>1</td>\n      <td>0</td>\n      <td>5</td>\n      <td>Wet</td>\n      <td>Dark - Street Lights On</td>\n    </tr>\n    <tr>\n      <th>194661</th>\n      <td>2</td>\n      <td>1</td>\n      <td>1</td>\n      <td>Dry</td>\n      <td>Daylight</td>\n    </tr>\n    <tr>\n      <th>194662</th>\n      <td>1</td>\n      <td>0</td>\n      <td>1</td>\n      <td>Dry</td>\n      <td>Dusk</td>\n    </tr>\n    <tr>\n      <th>194663</th>\n      <td>2</td>\n      <td>0</td>\n      <td>5</td>\n      <td>Wet</td>\n      <td>Daylight</td>\n    </tr>\n    <tr>\n      <th>194664</th>\n      <td>1</td>\n      <td>0</td>\n      <td>1</td>\n      <td>Dry</td>\n      <td>Daylight</td>\n    </tr>\n    <tr>\n      <th>194665</th>\n      <td>1</td>\n      <td>0</td>\n      <td>1</td>\n      <td>Dry</td>\n      <td>Daylight</td>\n    </tr>\n    <tr>\n      <th>194666</th>\n      <td>2</td>\n      <td>0</td>\n      <td>1</td>\n      <td>Wet</td>\n      <td>Daylight</td>\n    </tr>\n    <tr>\n      <th>194667</th>\n      <td>1</td>\n      <td>1</td>\n      <td>5</td>\n      <td>Wet</td>\n      <td>Dark - Street Lights On</td>\n    </tr>\n    <tr>\n      <th>194668</th>\n      <td>2</td>\n      <td>0</td>\n      <td>1</td>\n      <td>Dry</td>\n      <td>Daylight</td>\n    </tr>\n    <tr>\n      <th>194669</th>\n      <td>1</td>\n      <td>0</td>\n      <td>5</td>\n      <td>Wet</td>\n      <td>Daylight</td>\n    </tr>\n    <tr>\n      <th>194670</th>\n      <td>2</td>\n      <td>0</td>\n      <td>1</td>\n      <td>Dry</td>\n      <td>Daylight</td>\n    </tr>\n    <tr>\n      <th>194671</th>\n      <td>2</td>\n      <td>0</td>\n      <td>1</td>\n      <td>Dry</td>\n      <td>Dusk</td>\n    </tr>\n    <tr>\n      <th>194672</th>\n      <td>1</td>\n      <td>0</td>\n      <td>1</td>\n      <td>Wet</td>\n      <td>Daylight</td>\n    </tr>\n  </tbody>\n</table>\n<p>172262 rows \u00d7 5 columns</p>\n</div>",
                        "text/plain": "        SEVERITYCODE UNDERINFL  WEATHER ROADCOND                 LIGHTCOND\n0                  2         0        3      Wet                  Daylight\n1                  1         0        5      Wet   Dark - Street Lights On\n2                  1         0        3      Dry                  Daylight\n3                  1         0        1      Dry                  Daylight\n4                  2         0        5      Wet                  Daylight\n5                  1         0        1      Dry                  Daylight\n6                  1         0        5      Wet                  Daylight\n7                  2         0        1      Dry                  Daylight\n8                  1         0        1      Dry                  Daylight\n9                  2         0        1      Dry                  Daylight\n10                 1         0        3      Dry                  Daylight\n11                 1         0        1      Dry                  Daylight\n12                 1         0        5      Wet   Dark - Street Lights On\n13                 1         0        5      Wet   Dark - No Street Lights\n14                 2         0        1      Dry   Dark - Street Lights On\n16                 2         0        3      Dry                  Daylight\n17                 1         0        3      Dry                  Daylight\n18                 2         0        1      Dry                  Daylight\n20                 2         0        1      Dry   Dark - Street Lights On\n21                 2         0        1      Dry                  Daylight\n22                 1         0        1      Dry   Dark - Street Lights On\n24                 2         0        1      Dry                  Daylight\n25                 2         0        1      Dry                  Daylight\n26                 1         0        3      Wet                   Unknown\n27                 1         0        1      Dry                  Daylight\n28                 1         0        1      Dry                  Daylight\n29                 1         0        1      Dry                  Daylight\n30                 1         0        5      Wet   Dark - Street Lights On\n31                 1         0        1      Dry   Dark - Street Lights On\n32                 1         0        1      Dry                  Daylight\n...              ...       ...      ...      ...                       ...\n194639             1         0        5      Wet                  Daylight\n194640             2         0        3      Wet  Dark - Street Lights Off\n194641             1         0        1      Dry                  Daylight\n194642             1         0        1      Dry                  Daylight\n194643             1         0        1      Dry   Dark - Street Lights On\n194644             1         0        1      Dry                      Dusk\n194645             2         0        1      Dry   Dark - Street Lights On\n194647             2         0        5      Wet                      Dusk\n194648             1         1        5      Wet   Dark - Street Lights On\n194649             2         0        1      Dry   Dark - Street Lights On\n194650             2         0        1      Dry                  Daylight\n194651             1         0        1      Wet   Dark - Street Lights On\n194652             1         0        3      Wet                      Dusk\n194653             2         1        3      Wet   Dark - Street Lights On\n194656             2         0        1      Dry                  Daylight\n194657             1         0        5      Wet   Dark - Street Lights On\n194658             1         0        5      Wet   Dark - Street Lights On\n194659             1         0        5      Wet   Dark - Street Lights On\n194661             2         1        1      Dry                  Daylight\n194662             1         0        1      Dry                      Dusk\n194663             2         0        5      Wet                  Daylight\n194664             1         0        1      Dry                  Daylight\n194665             1         0        1      Dry                  Daylight\n194666             2         0        1      Wet                  Daylight\n194667             1         1        5      Wet   Dark - Street Lights On\n194668             2         0        1      Dry                  Daylight\n194669             1         0        5      Wet                  Daylight\n194670             2         0        1      Dry                  Daylight\n194671             2         0        1      Dry                      Dusk\n194672             1         0        1      Wet                  Daylight\n\n[172262 rows x 5 columns]"
                    },
                    "execution_count": 24,
                    "metadata": {},
                    "output_type": "execute_result"
                }
            ],
            "source": "df_clean"
        },
        {
            "cell_type": "code",
            "execution_count": 26,
            "metadata": {},
            "outputs": [
                {
                    "data": {
                        "text/html": "<div>\n<style scoped>\n    .dataframe tbody tr th:only-of-type {\n        vertical-align: middle;\n    }\n\n    .dataframe tbody tr th {\n        vertical-align: top;\n    }\n\n    .dataframe thead th {\n        text-align: right;\n    }\n</style>\n<table border=\"1\" class=\"dataframe\">\n  <thead>\n    <tr style=\"text-align: right;\">\n      <th></th>\n      <th>SEVERITYCODE</th>\n      <th>UNDERINFL</th>\n      <th>WEATHER</th>\n    </tr>\n  </thead>\n  <tbody>\n    <tr>\n      <th>0</th>\n      <td>2</td>\n      <td>0</td>\n      <td>3</td>\n    </tr>\n    <tr>\n      <th>1</th>\n      <td>1</td>\n      <td>0</td>\n      <td>5</td>\n    </tr>\n    <tr>\n      <th>2</th>\n      <td>1</td>\n      <td>0</td>\n      <td>3</td>\n    </tr>\n    <tr>\n      <th>3</th>\n      <td>1</td>\n      <td>0</td>\n      <td>1</td>\n    </tr>\n    <tr>\n      <th>4</th>\n      <td>2</td>\n      <td>0</td>\n      <td>5</td>\n    </tr>\n  </tbody>\n</table>\n</div>",
                        "text/plain": "   SEVERITYCODE UNDERINFL  WEATHER\n0             2         0        3\n1             1         0        5\n2             1         0        3\n3             1         0        1\n4             2         0        5"
                    },
                    "execution_count": 26,
                    "metadata": {},
                    "output_type": "execute_result"
                }
            ],
            "source": "#I made this test dataframe because I was getting so frustrated, I thought at the very least I could see if I could visualize it somehow\ndf_test= df_clean[['SEVERITYCODE', 'UNDERINFL', 'WEATHER']]\ndf_test.head()"
        },
        {
            "cell_type": "code",
            "execution_count": 27,
            "metadata": {},
            "outputs": [
                {
                    "name": "stderr",
                    "output_type": "stream",
                    "text": "/opt/conda/envs/Python36/lib/python3.6/site-packages/sklearn/ensemble/forest.py:246: FutureWarning: The default value of n_estimators will change from 10 in version 0.20 to 100 in 0.22.\n  \"10 in version 0.20 to 100 in 0.22.\", FutureWarning)\n"
                },
                {
                    "ename": "ValueError",
                    "evalue": "Expected 2D array, got 1D array instead:\narray=[2. 1. 1. ... 2. 2. 1.].\nReshape your data either using array.reshape(-1, 1) if your data has a single feature or array.reshape(1, -1) if it contains a single sample.",
                    "output_type": "error",
                    "traceback": [
                        "\u001b[0;31m---------------------------------------------------------------------------\u001b[0m",
                        "\u001b[0;31mValueError\u001b[0m                                Traceback (most recent call last)",
                        "\u001b[0;32m<ipython-input-27-c2ac2b2eca7f>\u001b[0m in \u001b[0;36m<module>\u001b[0;34m\u001b[0m\n\u001b[1;32m      4\u001b[0m \u001b[0;32mimport\u001b[0m \u001b[0mmatplotlib\u001b[0m\u001b[0;34m.\u001b[0m\u001b[0mpyplot\u001b[0m \u001b[0;32mas\u001b[0m \u001b[0mplt\u001b[0m\u001b[0;34m\u001b[0m\u001b[0;34m\u001b[0m\u001b[0m\n\u001b[1;32m      5\u001b[0m \u001b[0mmodel\u001b[0m \u001b[0;34m=\u001b[0m \u001b[0mExtraTreesClassifier\u001b[0m\u001b[0;34m(\u001b[0m\u001b[0;34m)\u001b[0m\u001b[0;34m\u001b[0m\u001b[0;34m\u001b[0m\u001b[0m\n\u001b[0;32m----> 6\u001b[0;31m \u001b[0mmodel\u001b[0m\u001b[0;34m.\u001b[0m\u001b[0mfit\u001b[0m\u001b[0;34m(\u001b[0m\u001b[0mX\u001b[0m\u001b[0;34m,\u001b[0m\u001b[0my\u001b[0m\u001b[0;34m)\u001b[0m\u001b[0;34m\u001b[0m\u001b[0;34m\u001b[0m\u001b[0m\n\u001b[0m\u001b[1;32m      7\u001b[0m \u001b[0mprint\u001b[0m\u001b[0;34m(\u001b[0m\u001b[0mmodel\u001b[0m\u001b[0;34m.\u001b[0m\u001b[0mfeature_importances_\u001b[0m\u001b[0;34m)\u001b[0m \u001b[0;31m#use inbuilt class feature_importances of tree based classifiers\u001b[0m\u001b[0;34m\u001b[0m\u001b[0;34m\u001b[0m\u001b[0m\n\u001b[1;32m      8\u001b[0m \u001b[0;31m#plot graph of feature importances for better visualization\u001b[0m\u001b[0;34m\u001b[0m\u001b[0;34m\u001b[0m\u001b[0;34m\u001b[0m\u001b[0m\n",
                        "\u001b[0;32m/opt/conda/envs/Python36/lib/python3.6/site-packages/sklearn/ensemble/forest.py\u001b[0m in \u001b[0;36mfit\u001b[0;34m(self, X, y, sample_weight)\u001b[0m\n\u001b[1;32m    248\u001b[0m \u001b[0;34m\u001b[0m\u001b[0m\n\u001b[1;32m    249\u001b[0m         \u001b[0;31m# Validate or convert input data\u001b[0m\u001b[0;34m\u001b[0m\u001b[0;34m\u001b[0m\u001b[0;34m\u001b[0m\u001b[0m\n\u001b[0;32m--> 250\u001b[0;31m         \u001b[0mX\u001b[0m \u001b[0;34m=\u001b[0m \u001b[0mcheck_array\u001b[0m\u001b[0;34m(\u001b[0m\u001b[0mX\u001b[0m\u001b[0;34m,\u001b[0m \u001b[0maccept_sparse\u001b[0m\u001b[0;34m=\u001b[0m\u001b[0;34m\"csc\"\u001b[0m\u001b[0;34m,\u001b[0m \u001b[0mdtype\u001b[0m\u001b[0;34m=\u001b[0m\u001b[0mDTYPE\u001b[0m\u001b[0;34m)\u001b[0m\u001b[0;34m\u001b[0m\u001b[0;34m\u001b[0m\u001b[0m\n\u001b[0m\u001b[1;32m    251\u001b[0m         \u001b[0my\u001b[0m \u001b[0;34m=\u001b[0m \u001b[0mcheck_array\u001b[0m\u001b[0;34m(\u001b[0m\u001b[0my\u001b[0m\u001b[0;34m,\u001b[0m \u001b[0maccept_sparse\u001b[0m\u001b[0;34m=\u001b[0m\u001b[0;34m'csc'\u001b[0m\u001b[0;34m,\u001b[0m \u001b[0mensure_2d\u001b[0m\u001b[0;34m=\u001b[0m\u001b[0;32mFalse\u001b[0m\u001b[0;34m,\u001b[0m \u001b[0mdtype\u001b[0m\u001b[0;34m=\u001b[0m\u001b[0;32mNone\u001b[0m\u001b[0;34m)\u001b[0m\u001b[0;34m\u001b[0m\u001b[0;34m\u001b[0m\u001b[0m\n\u001b[1;32m    252\u001b[0m         \u001b[0;32mif\u001b[0m \u001b[0msample_weight\u001b[0m \u001b[0;32mis\u001b[0m \u001b[0;32mnot\u001b[0m \u001b[0;32mNone\u001b[0m\u001b[0;34m:\u001b[0m\u001b[0;34m\u001b[0m\u001b[0;34m\u001b[0m\u001b[0m\n",
                        "\u001b[0;32m/opt/conda/envs/Python36/lib/python3.6/site-packages/sklearn/utils/validation.py\u001b[0m in \u001b[0;36mcheck_array\u001b[0;34m(array, accept_sparse, accept_large_sparse, dtype, order, copy, force_all_finite, ensure_2d, allow_nd, ensure_min_samples, ensure_min_features, warn_on_dtype, estimator)\u001b[0m\n\u001b[1;32m    550\u001b[0m                     \u001b[0;34m\"Reshape your data either using array.reshape(-1, 1) if \"\u001b[0m\u001b[0;34m\u001b[0m\u001b[0;34m\u001b[0m\u001b[0m\n\u001b[1;32m    551\u001b[0m                     \u001b[0;34m\"your data has a single feature or array.reshape(1, -1) \"\u001b[0m\u001b[0;34m\u001b[0m\u001b[0;34m\u001b[0m\u001b[0m\n\u001b[0;32m--> 552\u001b[0;31m                     \"if it contains a single sample.\".format(array))\n\u001b[0m\u001b[1;32m    553\u001b[0m \u001b[0;34m\u001b[0m\u001b[0m\n\u001b[1;32m    554\u001b[0m         \u001b[0;31m# in the future np.flexible dtypes will be handled like object dtypes\u001b[0m\u001b[0;34m\u001b[0m\u001b[0;34m\u001b[0m\u001b[0;34m\u001b[0m\u001b[0m\n",
                        "\u001b[0;31mValueError\u001b[0m: Expected 2D array, got 1D array instead:\narray=[2. 1. 1. ... 2. 2. 1.].\nReshape your data either using array.reshape(-1, 1) if your data has a single feature or array.reshape(1, -1) if it contains a single sample."
                    ]
                }
            ],
            "source": "#I thought this code was supposed to help me choose features and I'm not sure why it's not working. \n#Maybe I need to put the X variable on the side or something instead of being another column??? \n#I'm sure there's something there, but I can't remember.\n#On the other hand, Future Warning is a fantastic band name\n\nX = df_test.loc[:,'SEVERITYCODE']  #independent columns\ny = df_test.loc[:,'UNDERINFL':'WEATHER']    #target column i.e price range\nfrom sklearn.ensemble import ExtraTreesClassifier\nimport matplotlib.pyplot as plt\nmodel = ExtraTreesClassifier()\nmodel.fit(X,y)\nprint(model.feature_importances_) #use inbuilt class feature_importances of tree based classifiers\n#plot graph of feature importances for better visualization\nfeat_importances = pd.Series(model.feature_importances_, index=X.columns)\nfeat_importances.nlargest(10).plot(kind='barh')\nplt.show()"
        },
        {
            "cell_type": "markdown",
            "metadata": {},
            "source": "## I have to figure out how to encode, while saving the values somewhere because the way i am doing it now, none of this means anything! (One more time for the people in the balcony?)"
        },
        {
            "cell_type": "code",
            "execution_count": 243,
            "metadata": {},
            "outputs": [
                {
                    "name": "stderr",
                    "output_type": "stream",
                    "text": "/opt/conda/envs/Python36/lib/python3.6/site-packages/ipykernel/__main__.py:5: SettingWithCopyWarning: \nA value is trying to be set on a copy of a slice from a DataFrame.\nTry using .loc[row_indexer,col_indexer] = value instead\n\nSee the caveats in the documentation: http://pandas.pydata.org/pandas-docs/stable/indexing.html#indexing-view-versus-copy\n"
                },
                {
                    "data": {
                        "text/plain": "array([6, 0, 4, 1, 3, 5, 2])"
                    },
                    "execution_count": 243,
                    "metadata": {},
                    "output_type": "execute_result"
                }
            ],
            "source": "#Create a new column called ROADCOND1 that will hold the numerical values for ROADCOND and perform encoding.\n\nlabel_encoder = preprocessing.LabelEncoder() \n  \ndf_clean['ROADCOND1']= df_clean['ROADCOND']= label_encoder.fit_transform(df_clean['ROADCOND']) \n  \ndf_clean['ROADCOND'].unique() "
        },
        {
            "cell_type": "code",
            "execution_count": 244,
            "metadata": {},
            "outputs": [
                {
                    "data": {
                        "text/html": "<div>\n<style scoped>\n    .dataframe tbody tr th:only-of-type {\n        vertical-align: middle;\n    }\n\n    .dataframe tbody tr th {\n        vertical-align: top;\n    }\n\n    .dataframe thead th {\n        text-align: right;\n    }\n</style>\n<table border=\"1\" class=\"dataframe\">\n  <thead>\n    <tr style=\"text-align: right;\">\n      <th></th>\n      <th>SEVERITYCODE</th>\n      <th>UNDERINFL</th>\n      <th>WEATHER</th>\n      <th>ROADCOND</th>\n      <th>LIGHTCOND</th>\n      <th>ROADCOND1</th>\n    </tr>\n  </thead>\n  <tbody>\n    <tr>\n      <th>0</th>\n      <td>2</td>\n      <td>0</td>\n      <td>3</td>\n      <td>6</td>\n      <td>Daylight</td>\n      <td>6</td>\n    </tr>\n    <tr>\n      <th>1</th>\n      <td>1</td>\n      <td>0</td>\n      <td>5</td>\n      <td>6</td>\n      <td>Dark - Street Lights On</td>\n      <td>6</td>\n    </tr>\n    <tr>\n      <th>2</th>\n      <td>1</td>\n      <td>0</td>\n      <td>3</td>\n      <td>0</td>\n      <td>Daylight</td>\n      <td>0</td>\n    </tr>\n    <tr>\n      <th>3</th>\n      <td>1</td>\n      <td>0</td>\n      <td>1</td>\n      <td>0</td>\n      <td>Daylight</td>\n      <td>0</td>\n    </tr>\n    <tr>\n      <th>4</th>\n      <td>2</td>\n      <td>0</td>\n      <td>5</td>\n      <td>6</td>\n      <td>Daylight</td>\n      <td>6</td>\n    </tr>\n    <tr>\n      <th>5</th>\n      <td>1</td>\n      <td>0</td>\n      <td>1</td>\n      <td>0</td>\n      <td>Daylight</td>\n      <td>0</td>\n    </tr>\n    <tr>\n      <th>6</th>\n      <td>1</td>\n      <td>0</td>\n      <td>5</td>\n      <td>6</td>\n      <td>Daylight</td>\n      <td>6</td>\n    </tr>\n    <tr>\n      <th>7</th>\n      <td>2</td>\n      <td>0</td>\n      <td>1</td>\n      <td>0</td>\n      <td>Daylight</td>\n      <td>0</td>\n    </tr>\n    <tr>\n      <th>8</th>\n      <td>1</td>\n      <td>0</td>\n      <td>1</td>\n      <td>0</td>\n      <td>Daylight</td>\n      <td>0</td>\n    </tr>\n    <tr>\n      <th>9</th>\n      <td>2</td>\n      <td>0</td>\n      <td>1</td>\n      <td>0</td>\n      <td>Daylight</td>\n      <td>0</td>\n    </tr>\n    <tr>\n      <th>10</th>\n      <td>1</td>\n      <td>0</td>\n      <td>3</td>\n      <td>0</td>\n      <td>Daylight</td>\n      <td>0</td>\n    </tr>\n    <tr>\n      <th>11</th>\n      <td>1</td>\n      <td>0</td>\n      <td>1</td>\n      <td>0</td>\n      <td>Daylight</td>\n      <td>0</td>\n    </tr>\n    <tr>\n      <th>12</th>\n      <td>1</td>\n      <td>0</td>\n      <td>5</td>\n      <td>6</td>\n      <td>Dark - Street Lights On</td>\n      <td>6</td>\n    </tr>\n    <tr>\n      <th>13</th>\n      <td>1</td>\n      <td>0</td>\n      <td>5</td>\n      <td>6</td>\n      <td>Dark - No Street Lights</td>\n      <td>6</td>\n    </tr>\n    <tr>\n      <th>14</th>\n      <td>2</td>\n      <td>0</td>\n      <td>1</td>\n      <td>0</td>\n      <td>Dark - Street Lights On</td>\n      <td>0</td>\n    </tr>\n    <tr>\n      <th>16</th>\n      <td>2</td>\n      <td>0</td>\n      <td>3</td>\n      <td>0</td>\n      <td>Daylight</td>\n      <td>0</td>\n    </tr>\n    <tr>\n      <th>17</th>\n      <td>1</td>\n      <td>0</td>\n      <td>3</td>\n      <td>0</td>\n      <td>Daylight</td>\n      <td>0</td>\n    </tr>\n    <tr>\n      <th>18</th>\n      <td>2</td>\n      <td>0</td>\n      <td>1</td>\n      <td>0</td>\n      <td>Daylight</td>\n      <td>0</td>\n    </tr>\n    <tr>\n      <th>20</th>\n      <td>2</td>\n      <td>0</td>\n      <td>1</td>\n      <td>0</td>\n      <td>Dark - Street Lights On</td>\n      <td>0</td>\n    </tr>\n    <tr>\n      <th>21</th>\n      <td>2</td>\n      <td>0</td>\n      <td>1</td>\n      <td>0</td>\n      <td>Daylight</td>\n      <td>0</td>\n    </tr>\n    <tr>\n      <th>22</th>\n      <td>1</td>\n      <td>0</td>\n      <td>1</td>\n      <td>0</td>\n      <td>Dark - Street Lights On</td>\n      <td>0</td>\n    </tr>\n    <tr>\n      <th>24</th>\n      <td>2</td>\n      <td>0</td>\n      <td>1</td>\n      <td>0</td>\n      <td>Daylight</td>\n      <td>0</td>\n    </tr>\n    <tr>\n      <th>25</th>\n      <td>2</td>\n      <td>0</td>\n      <td>1</td>\n      <td>0</td>\n      <td>Daylight</td>\n      <td>0</td>\n    </tr>\n    <tr>\n      <th>26</th>\n      <td>1</td>\n      <td>0</td>\n      <td>3</td>\n      <td>6</td>\n      <td>Unknown</td>\n      <td>6</td>\n    </tr>\n    <tr>\n      <th>27</th>\n      <td>1</td>\n      <td>0</td>\n      <td>1</td>\n      <td>0</td>\n      <td>Daylight</td>\n      <td>0</td>\n    </tr>\n    <tr>\n      <th>28</th>\n      <td>1</td>\n      <td>0</td>\n      <td>1</td>\n      <td>0</td>\n      <td>Daylight</td>\n      <td>0</td>\n    </tr>\n    <tr>\n      <th>29</th>\n      <td>1</td>\n      <td>0</td>\n      <td>1</td>\n      <td>0</td>\n      <td>Daylight</td>\n      <td>0</td>\n    </tr>\n    <tr>\n      <th>30</th>\n      <td>1</td>\n      <td>0</td>\n      <td>5</td>\n      <td>6</td>\n      <td>Dark - Street Lights On</td>\n      <td>6</td>\n    </tr>\n    <tr>\n      <th>31</th>\n      <td>1</td>\n      <td>0</td>\n      <td>1</td>\n      <td>0</td>\n      <td>Dark - Street Lights On</td>\n      <td>0</td>\n    </tr>\n    <tr>\n      <th>32</th>\n      <td>1</td>\n      <td>0</td>\n      <td>1</td>\n      <td>0</td>\n      <td>Daylight</td>\n      <td>0</td>\n    </tr>\n    <tr>\n      <th>...</th>\n      <td>...</td>\n      <td>...</td>\n      <td>...</td>\n      <td>...</td>\n      <td>...</td>\n      <td>...</td>\n    </tr>\n    <tr>\n      <th>194639</th>\n      <td>1</td>\n      <td>0</td>\n      <td>5</td>\n      <td>6</td>\n      <td>Daylight</td>\n      <td>6</td>\n    </tr>\n    <tr>\n      <th>194640</th>\n      <td>2</td>\n      <td>0</td>\n      <td>3</td>\n      <td>6</td>\n      <td>Dark - Street Lights Off</td>\n      <td>6</td>\n    </tr>\n    <tr>\n      <th>194641</th>\n      <td>1</td>\n      <td>0</td>\n      <td>1</td>\n      <td>0</td>\n      <td>Daylight</td>\n      <td>0</td>\n    </tr>\n    <tr>\n      <th>194642</th>\n      <td>1</td>\n      <td>0</td>\n      <td>1</td>\n      <td>0</td>\n      <td>Daylight</td>\n      <td>0</td>\n    </tr>\n    <tr>\n      <th>194643</th>\n      <td>1</td>\n      <td>0</td>\n      <td>1</td>\n      <td>0</td>\n      <td>Dark - Street Lights On</td>\n      <td>0</td>\n    </tr>\n    <tr>\n      <th>194644</th>\n      <td>1</td>\n      <td>0</td>\n      <td>1</td>\n      <td>0</td>\n      <td>Dusk</td>\n      <td>0</td>\n    </tr>\n    <tr>\n      <th>194645</th>\n      <td>2</td>\n      <td>0</td>\n      <td>1</td>\n      <td>0</td>\n      <td>Dark - Street Lights On</td>\n      <td>0</td>\n    </tr>\n    <tr>\n      <th>194647</th>\n      <td>2</td>\n      <td>0</td>\n      <td>5</td>\n      <td>6</td>\n      <td>Dusk</td>\n      <td>6</td>\n    </tr>\n    <tr>\n      <th>194648</th>\n      <td>1</td>\n      <td>1</td>\n      <td>5</td>\n      <td>6</td>\n      <td>Dark - Street Lights On</td>\n      <td>6</td>\n    </tr>\n    <tr>\n      <th>194649</th>\n      <td>2</td>\n      <td>0</td>\n      <td>1</td>\n      <td>0</td>\n      <td>Dark - Street Lights On</td>\n      <td>0</td>\n    </tr>\n    <tr>\n      <th>194650</th>\n      <td>2</td>\n      <td>0</td>\n      <td>1</td>\n      <td>0</td>\n      <td>Daylight</td>\n      <td>0</td>\n    </tr>\n    <tr>\n      <th>194651</th>\n      <td>1</td>\n      <td>0</td>\n      <td>1</td>\n      <td>6</td>\n      <td>Dark - Street Lights On</td>\n      <td>6</td>\n    </tr>\n    <tr>\n      <th>194652</th>\n      <td>1</td>\n      <td>0</td>\n      <td>3</td>\n      <td>6</td>\n      <td>Dusk</td>\n      <td>6</td>\n    </tr>\n    <tr>\n      <th>194653</th>\n      <td>2</td>\n      <td>1</td>\n      <td>3</td>\n      <td>6</td>\n      <td>Dark - Street Lights On</td>\n      <td>6</td>\n    </tr>\n    <tr>\n      <th>194656</th>\n      <td>2</td>\n      <td>0</td>\n      <td>1</td>\n      <td>0</td>\n      <td>Daylight</td>\n      <td>0</td>\n    </tr>\n    <tr>\n      <th>194657</th>\n      <td>1</td>\n      <td>0</td>\n      <td>5</td>\n      <td>6</td>\n      <td>Dark - Street Lights On</td>\n      <td>6</td>\n    </tr>\n    <tr>\n      <th>194658</th>\n      <td>1</td>\n      <td>0</td>\n      <td>5</td>\n      <td>6</td>\n      <td>Dark - Street Lights On</td>\n      <td>6</td>\n    </tr>\n    <tr>\n      <th>194659</th>\n      <td>1</td>\n      <td>0</td>\n      <td>5</td>\n      <td>6</td>\n      <td>Dark - Street Lights On</td>\n      <td>6</td>\n    </tr>\n    <tr>\n      <th>194661</th>\n      <td>2</td>\n      <td>1</td>\n      <td>1</td>\n      <td>0</td>\n      <td>Daylight</td>\n      <td>0</td>\n    </tr>\n    <tr>\n      <th>194662</th>\n      <td>1</td>\n      <td>0</td>\n      <td>1</td>\n      <td>0</td>\n      <td>Dusk</td>\n      <td>0</td>\n    </tr>\n    <tr>\n      <th>194663</th>\n      <td>2</td>\n      <td>0</td>\n      <td>5</td>\n      <td>6</td>\n      <td>Daylight</td>\n      <td>6</td>\n    </tr>\n    <tr>\n      <th>194664</th>\n      <td>1</td>\n      <td>0</td>\n      <td>1</td>\n      <td>0</td>\n      <td>Daylight</td>\n      <td>0</td>\n    </tr>\n    <tr>\n      <th>194665</th>\n      <td>1</td>\n      <td>0</td>\n      <td>1</td>\n      <td>0</td>\n      <td>Daylight</td>\n      <td>0</td>\n    </tr>\n    <tr>\n      <th>194666</th>\n      <td>2</td>\n      <td>0</td>\n      <td>1</td>\n      <td>6</td>\n      <td>Daylight</td>\n      <td>6</td>\n    </tr>\n    <tr>\n      <th>194667</th>\n      <td>1</td>\n      <td>1</td>\n      <td>5</td>\n      <td>6</td>\n      <td>Dark - Street Lights On</td>\n      <td>6</td>\n    </tr>\n    <tr>\n      <th>194668</th>\n      <td>2</td>\n      <td>0</td>\n      <td>1</td>\n      <td>0</td>\n      <td>Daylight</td>\n      <td>0</td>\n    </tr>\n    <tr>\n      <th>194669</th>\n      <td>1</td>\n      <td>0</td>\n      <td>5</td>\n      <td>6</td>\n      <td>Daylight</td>\n      <td>6</td>\n    </tr>\n    <tr>\n      <th>194670</th>\n      <td>2</td>\n      <td>0</td>\n      <td>1</td>\n      <td>0</td>\n      <td>Daylight</td>\n      <td>0</td>\n    </tr>\n    <tr>\n      <th>194671</th>\n      <td>2</td>\n      <td>0</td>\n      <td>1</td>\n      <td>0</td>\n      <td>Dusk</td>\n      <td>0</td>\n    </tr>\n    <tr>\n      <th>194672</th>\n      <td>1</td>\n      <td>0</td>\n      <td>1</td>\n      <td>6</td>\n      <td>Daylight</td>\n      <td>6</td>\n    </tr>\n  </tbody>\n</table>\n<p>172262 rows \u00d7 6 columns</p>\n</div>",
                        "text/plain": "        SEVERITYCODE UNDERINFL  WEATHER  ROADCOND                 LIGHTCOND  \\\n0                  2         0        3         6                  Daylight   \n1                  1         0        5         6   Dark - Street Lights On   \n2                  1         0        3         0                  Daylight   \n3                  1         0        1         0                  Daylight   \n4                  2         0        5         6                  Daylight   \n5                  1         0        1         0                  Daylight   \n6                  1         0        5         6                  Daylight   \n7                  2         0        1         0                  Daylight   \n8                  1         0        1         0                  Daylight   \n9                  2         0        1         0                  Daylight   \n10                 1         0        3         0                  Daylight   \n11                 1         0        1         0                  Daylight   \n12                 1         0        5         6   Dark - Street Lights On   \n13                 1         0        5         6   Dark - No Street Lights   \n14                 2         0        1         0   Dark - Street Lights On   \n16                 2         0        3         0                  Daylight   \n17                 1         0        3         0                  Daylight   \n18                 2         0        1         0                  Daylight   \n20                 2         0        1         0   Dark - Street Lights On   \n21                 2         0        1         0                  Daylight   \n22                 1         0        1         0   Dark - Street Lights On   \n24                 2         0        1         0                  Daylight   \n25                 2         0        1         0                  Daylight   \n26                 1         0        3         6                   Unknown   \n27                 1         0        1         0                  Daylight   \n28                 1         0        1         0                  Daylight   \n29                 1         0        1         0                  Daylight   \n30                 1         0        5         6   Dark - Street Lights On   \n31                 1         0        1         0   Dark - Street Lights On   \n32                 1         0        1         0                  Daylight   \n...              ...       ...      ...       ...                       ...   \n194639             1         0        5         6                  Daylight   \n194640             2         0        3         6  Dark - Street Lights Off   \n194641             1         0        1         0                  Daylight   \n194642             1         0        1         0                  Daylight   \n194643             1         0        1         0   Dark - Street Lights On   \n194644             1         0        1         0                      Dusk   \n194645             2         0        1         0   Dark - Street Lights On   \n194647             2         0        5         6                      Dusk   \n194648             1         1        5         6   Dark - Street Lights On   \n194649             2         0        1         0   Dark - Street Lights On   \n194650             2         0        1         0                  Daylight   \n194651             1         0        1         6   Dark - Street Lights On   \n194652             1         0        3         6                      Dusk   \n194653             2         1        3         6   Dark - Street Lights On   \n194656             2         0        1         0                  Daylight   \n194657             1         0        5         6   Dark - Street Lights On   \n194658             1         0        5         6   Dark - Street Lights On   \n194659             1         0        5         6   Dark - Street Lights On   \n194661             2         1        1         0                  Daylight   \n194662             1         0        1         0                      Dusk   \n194663             2         0        5         6                  Daylight   \n194664             1         0        1         0                  Daylight   \n194665             1         0        1         0                  Daylight   \n194666             2         0        1         6                  Daylight   \n194667             1         1        5         6   Dark - Street Lights On   \n194668             2         0        1         0                  Daylight   \n194669             1         0        5         6                  Daylight   \n194670             2         0        1         0                  Daylight   \n194671             2         0        1         0                      Dusk   \n194672             1         0        1         6                  Daylight   \n\n        ROADCOND1  \n0               6  \n1               6  \n2               0  \n3               0  \n4               6  \n5               0  \n6               6  \n7               0  \n8               0  \n9               0  \n10              0  \n11              0  \n12              6  \n13              6  \n14              0  \n16              0  \n17              0  \n18              0  \n20              0  \n21              0  \n22              0  \n24              0  \n25              0  \n26              6  \n27              0  \n28              0  \n29              0  \n30              6  \n31              0  \n32              0  \n...           ...  \n194639          6  \n194640          6  \n194641          0  \n194642          0  \n194643          0  \n194644          0  \n194645          0  \n194647          6  \n194648          6  \n194649          0  \n194650          0  \n194651          6  \n194652          6  \n194653          6  \n194656          0  \n194657          6  \n194658          6  \n194659          6  \n194661          0  \n194662          0  \n194663          6  \n194664          0  \n194665          0  \n194666          6  \n194667          6  \n194668          0  \n194669          6  \n194670          0  \n194671          0  \n194672          6  \n\n[172262 rows x 6 columns]"
                    },
                    "execution_count": 244,
                    "metadata": {},
                    "output_type": "execute_result"
                }
            ],
            "source": "df_clean"
        },
        {
            "cell_type": "markdown",
            "metadata": {},
            "source": "## If all the encoding stuff had made sense (and it was until I worried about deriving meaning from the numbers later), I would have then moved on to balancing the data. I was thinking of undersampling, but reading about that described it as the 4th or 5th best option. P.S. I don't actually remember learning to balance data either, but since I figured out how to drop columns, it seems far less obscure than the other stuff."
        },
        {
            "cell_type": "code",
            "execution_count": 52,
            "metadata": {},
            "outputs": [
                {
                    "data": {
                        "text/plain": "1    116342\n2     55920\nName: SEVERITYCODE, dtype: int64"
                    },
                    "execution_count": 52,
                    "metadata": {},
                    "output_type": "execute_result"
                }
            ],
            "source": "#A closer look at the Severity Code column reveals that the data is imbalanced\ndf_clean['SEVERITYCODE'].value_counts()"
        },
        {
            "cell_type": "code",
            "execution_count": 14,
            "metadata": {},
            "outputs": [],
            "source": "#As there are far fewer Severity Code type 2 entries, we need to balance the data in order to work with it.\n#We will do this by undersampling."
        },
        {
            "cell_type": "markdown",
            "metadata": {},
            "source": "## Methodology<a name=\"method\"></a>"
        },
        {
            "cell_type": "markdown",
            "metadata": {},
            "source": "## Results<a name=\"results\"></a>"
        },
        {
            "cell_type": "markdown",
            "metadata": {},
            "source": "## Discussion<a name=\"discussion\"></a>"
        },
        {
            "cell_type": "markdown",
            "metadata": {},
            "source": "## Conclusion<a name=\"conclusion\"></a>"
        },
        {
            "cell_type": "markdown",
            "metadata": {},
            "source": "# Wow, if you actually made it this far, you deserve an award. This isn't that, but <a href=\"https://www.youtube.com/watch?v=Y2vS8dPMR2U\">here is something</a>"
        },
        {
            "cell_type": "code",
            "execution_count": null,
            "metadata": {},
            "outputs": [],
            "source": ""
        }
    ],
    "metadata": {
        "kernelspec": {
            "display_name": "Python 3.6",
            "language": "python",
            "name": "python3"
        },
        "language_info": {
            "codemirror_mode": {
                "name": "ipython",
                "version": 3
            },
            "file_extension": ".py",
            "mimetype": "text/x-python",
            "name": "python",
            "nbconvert_exporter": "python",
            "pygments_lexer": "ipython3",
            "version": "3.6.9"
        }
    },
    "nbformat": 4,
    "nbformat_minor": 1
}